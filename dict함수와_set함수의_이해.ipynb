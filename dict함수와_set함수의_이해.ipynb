{
  "nbformat": 4,
  "nbformat_minor": 0,
  "metadata": {
    "kernelspec": {
      "display_name": "Python 3",
      "language": "python",
      "name": "python3"
    },
    "language_info": {
      "codemirror_mode": {
        "name": "ipython",
        "version": 3
      },
      "file_extension": ".py",
      "mimetype": "text/x-python",
      "name": "python",
      "nbconvert_exporter": "python",
      "pygments_lexer": "ipython3",
      "version": "3.7.3"
    },
    "colab": {
      "name": "dict함수와 set함수의 이해",
      "provenance": [],
      "include_colab_link": true
    }
  },
  "cells": [
    {
      "cell_type": "markdown",
      "metadata": {
        "id": "view-in-github",
        "colab_type": "text"
      },
      "source": [
        "<a href=\"https://colab.research.google.com/github/helookscool/CheatSheet-for-Python/blob/main/dict%ED%95%A8%EC%88%98%EC%99%80_set%ED%95%A8%EC%88%98%EC%9D%98_%EC%9D%B4%ED%95%B4.ipynb\" target=\"_parent\"><img src=\"https://colab.research.google.com/assets/colab-badge.svg\" alt=\"Open In Colab\"/></a>"
      ]
    },
    {
      "cell_type": "markdown",
      "metadata": {
        "id": "4zlqgzjZh9Tf"
      },
      "source": [
        "## 학습목표\n",
        " 1. dictionary, set에 대해 이해 및 실습\n"
      ]
    },
    {
      "cell_type": "markdown",
      "metadata": {
        "id": "aLeIT96sh9Tg"
      },
      "source": [
        "### **dictionary**\n",
        " + 얘는 중괄호를 쓴다.\n",
        " + 키와 값을 갖는 데이터 구조\n",
        " + 키는 내부적으로 hash값으로 저장\n",
        " + 순서를 따지지 않음. 즉, 인덱스가 없음"
      ]
    },
    {
      "cell_type": "code",
      "metadata": {
        "id": "w6v6f6Rgh9Th"
      },
      "source": [
        "a = {'Korea': 'Seoul', \n",
        "     'Canada': 'Ottawa', \n",
        "     'USA': 'Washington D.C'}\n",
        "b = {0:1, 1:6, 7:9, 8:10}\n",
        "#print(b[2]) --> 이렇게 인덱스로 출력하면 에러뜸"
      ],
      "execution_count": null,
      "outputs": []
    },
    {
      "cell_type": "code",
      "metadata": {
        "colab": {
          "base_uri": "https://localhost:8080/"
        },
        "id": "VC9Q7pW2jALf",
        "outputId": "ec72cd02-3ca1-4937-bb2f-ca6a549d07c7"
      },
      "source": [
        "print(a['Korea'])--> 키 값을 넣으면 키값에 맞는 value를 출력함."
      ],
      "execution_count": null,
      "outputs": [
        {
          "output_type": "stream",
          "text": [
            "Seoul\n"
          ],
          "name": "stdout"
        }
      ]
    },
    {
      "cell_type": "markdown",
      "metadata": {
        "id": "f83-rp14h9Ti"
      },
      "source": [
        "+ **항목 추가 및 변경**\n",
        " - 기존에 키가 존재 하면, 새로운 값으로 업데이트\n",
        " - 존재하지 않으면, 새로운 키, 값 생성"
      ]
    },
    {
      "cell_type": "code",
      "metadata": {
        "colab": {
          "base_uri": "https://localhost:8080/"
        },
        "id": "_RmCnW3ih9Ti",
        "outputId": "b98b0834-2452-46b5-875f-88141383ab5e"
      },
      "source": [
        "a = {'Korea': 'Seoul', \n",
        "     'Canada': 'Ottawa', \n",
        "     'USA': 'Washington D.C'}\n",
        "\n",
        "a['Japan'] = 'Tokyo' #--> 값을 추가할때는 대괄호를 쓴다.\n",
        "a['Japan'] = 'Kyoto' #--> hash값으로 저장되므로 키값이 중복되지 않고 업데이트 되버림.\n",
        "a['Japan2'] = 'Kyoto'#--> 다만 키값이 중복되지 않는것이지 결과 값은 중복될 수 있음.\n",
        "a['China'] = 'Beijing'\n",
        "\n",
        "print(a)"
      ],
      "execution_count": null,
      "outputs": [
        {
          "output_type": "stream",
          "text": [
            "{'Korea': 'Seoul', 'Canada': 'Ottawa', 'USA': 'Washington D.C', 'Japan': 'Kyoto', 'Japan2': 'Kyoto', 'China': 'Beijing'}\n"
          ],
          "name": "stdout"
        }
      ]
    },
    {
      "cell_type": "markdown",
      "metadata": {
        "id": "xLfpRDgKh9Tj"
      },
      "source": [
        "+ **update()**\n",
        " * 두 딕셔너리를 병합함\n",
        " * 겹치는 키가 있다면 parameter로 전달되는 키 값이 overwrite된다."
      ]
    },
    {
      "cell_type": "code",
      "metadata": {
        "colab": {
          "base_uri": "https://localhost:8080/"
        },
        "id": "E6Wptrt7h9Tj",
        "outputId": "ffc0c1b4-9a90-451e-8cb6-e3b0e7830b84"
      },
      "source": [
        "a = {'a': 1, 'b': 2, 'c' : 3}\n",
        "b = {'a': 2, 'd': 4, 'e': 5}\n",
        "\n",
        "a.update(b)\n",
        "\n",
        "print(a)"
      ],
      "execution_count": null,
      "outputs": [
        {
          "output_type": "stream",
          "text": [
            "{'a': 2, 'b': 2, 'c': 3, 'd': 4, 'e': 5}\n"
          ],
          "name": "stdout"
        }
      ]
    },
    {
      "cell_type": "markdown",
      "metadata": {
        "id": "2YuwkvHah9Tk"
      },
      "source": [
        "* **key삭제**\n",
        " - del 키워드 사용\n",
        " - pop 함수 이용"
      ]
    },
    {
      "cell_type": "code",
      "metadata": {
        "colab": {
          "base_uri": "https://localhost:8080/"
        },
        "id": "eribQxB5h9Tm",
        "outputId": "18e38089-019c-4a38-eb81-ab5ebb743b3e"
      },
      "source": [
        "a = {'a': 1, 'b': 2, 'c' : 3}\n",
        "print(a)\n",
        "\n",
        "# a.pop('b')\n",
        "del a['b']\n",
        "print(a)"
      ],
      "execution_count": null,
      "outputs": [
        {
          "output_type": "stream",
          "text": [
            "{'a': 1, 'b': 2, 'c': 3}\n",
            "{'a': 1, 'c': 3}\n"
          ],
          "name": "stdout"
        }
      ]
    },
    {
      "cell_type": "markdown",
      "metadata": {
        "id": "PLQKavG7h9To"
      },
      "source": [
        "* **clear()**\n",
        " + 딕셔너리의 모든 값을 초기화\n"
      ]
    },
    {
      "cell_type": "code",
      "metadata": {
        "id": "CbD8N8BVh9To"
      },
      "source": [
        "print(a)\n",
        "a.clear()\n",
        "print(a)"
      ],
      "execution_count": null,
      "outputs": []
    },
    {
      "cell_type": "markdown",
      "metadata": {
        "id": "CyJfsSAih9Tp"
      },
      "source": [
        "* **in**\n",
        " + key값 존재 확인\n",
        " + O(1) 연산 - 딕셔너리의 크기와 관계없이 항상 연산의 속도가 일정하다는 의미"
      ]
    },
    {
      "cell_type": "code",
      "metadata": {
        "colab": {
          "base_uri": "https://localhost:8080/"
        },
        "id": "uZuRKh4Kh9Tp",
        "outputId": "0a1e50b9-b5e2-4584-ff49-aea8c247d580"
      },
      "source": [
        "a = {'a': 1, 'b': 2, 'c' : 3}\n",
        "b = [1, 2, 3, 4, 5, 6, 7, 9, 10, 100]\n",
        "# a는 dict이고 b는 list인데, 둘다 in 함수 썼을때 dict는 키값을 찾는데 최적화된 컬렉션타입이므로 컴퓨터에 부하가 적지만, list로 in함수를 쓸 경우 부하가 크다.\n",
        "#list가 커질수록 그 진가를 발휘함.\n",
        "print(100 in b) #--> b안에 100이라는 값이 있니? 물어본거임.\n",
        "print(2 in a)"
      ],
      "execution_count": null,
      "outputs": [
        {
          "output_type": "stream",
          "text": [
            "True\n",
            "False\n"
          ],
          "name": "stdout"
        }
      ]
    },
    {
      "cell_type": "markdown",
      "metadata": {
        "id": "DsbsblmIh9Tq"
      },
      "source": [
        "* **value access**\n",
        " + dict[key]로 접급, 키가 없는 경우 에러 발생 \n",
        " + .get() 함수로 접근, 키가 없는 경우 None반환--> a안에 d라는 키값이 없는데, 그냥 print(a['d'])하면 에러가 나지만, get을 쓰면 키가 없는 경우 none이 출력됨. 프로그램이 죽지 않는다. \n",
        " + get말고 if구문으로도 구할수 있다. "
      ]
    },
    {
      "cell_type": "code",
      "metadata": {
        "colab": {
          "base_uri": "https://localhost:8080/"
        },
        "id": "e22FbctIh9Tq",
        "outputId": "b973e6f1-f577-4e3d-83bc-95c10f78df11"
      },
      "source": [
        "print(a.get('d'))\n",
        "# print(a['d'])\n",
        "\n",
        "if 'd' in a:\n",
        "    print(a['d'])"
      ],
      "execution_count": null,
      "outputs": [
        {
          "output_type": "stream",
          "text": [
            "None\n"
          ],
          "name": "stdout"
        }
      ]
    },
    {
      "cell_type": "markdown",
      "metadata": {
        "id": "AuBqOYMVh9Tr"
      },
      "source": [
        "#### **모든 keys, values 접근**\n",
        " + keys() - 키만 반환\n",
        " + values() - 값만 반환\n",
        " + items() - 키, 값의 튜플을 반환"
      ]
    },
    {
      "cell_type": "code",
      "metadata": {
        "colab": {
          "base_uri": "https://localhost:8080/"
        },
        "id": "7YM6NCPTh9Ts",
        "outputId": "aa38f05b-0384-4467-bf80-dcd5ed5b7502"
      },
      "source": [
        "print(a)\n",
        "print(a.keys())\n",
        "print(a.values())\n",
        "\n",
        "#list함수에 넣어서 list값으로 변환가능\n",
        "print(list(a.keys()))\n",
        "print(list(a.values()))\n",
        "\n",
        "list(a.items())"
      ],
      "execution_count": null,
      "outputs": [
        {
          "output_type": "stream",
          "text": [
            "{'a': 1, 'b': 2, 'c': 3}\n",
            "dict_keys(['a', 'b', 'c'])\n",
            "dict_values([1, 2, 3])\n",
            "['a', 'b', 'c']\n",
            "[1, 2, 3]\n"
          ],
          "name": "stdout"
        },
        {
          "output_type": "execute_result",
          "data": {
            "text/plain": [
              "[('a', 1), ('b', 2), ('c', 3)]"
            ]
          },
          "metadata": {
            "tags": []
          },
          "execution_count": 13
        }
      ]
    },
    {
      "cell_type": "markdown",
      "metadata": {
        "id": "M1Tx5pKLh9Ts"
      },
      "source": [
        "### **set**\n",
        " + dictionary에서 key만 활용하는 데이터 구조로 이해\n",
        " + 수학에서의 집합과 동일한 개념\n",
        " + set도 dict처럼 중괄호씀."
      ]
    },
    {
      "cell_type": "code",
      "metadata": {
        "colab": {
          "base_uri": "https://localhost:8080/",
          "height": 227
        },
        "id": "7rUexayyh9Tt",
        "outputId": "f57373ef-aa60-4365-ba2d-fcccc227d125"
      },
      "source": [
        "a = {1, 1, 2, 3, 3, 4, 1, 5}\n",
        "print(a) #set으로 콜렉션하면 중복된 키값은 다 합쳐져서 표현이됨.\n",
        "print(a[0]) #set은 인덱싱이 안됨, 즉 set은 순서가 없음."
      ],
      "execution_count": null,
      "outputs": [
        {
          "output_type": "stream",
          "text": [
            "{1, 2, 3, 4, 5}\n"
          ],
          "name": "stdout"
        },
        {
          "output_type": "error",
          "ename": "TypeError",
          "evalue": "ignored",
          "traceback": [
            "\u001b[0;31m---------------------------------------------------------------------------\u001b[0m",
            "\u001b[0;31mTypeError\u001b[0m                                 Traceback (most recent call last)",
            "\u001b[0;32m<ipython-input-16-8beb93ecc03f>\u001b[0m in \u001b[0;36m<module>\u001b[0;34m()\u001b[0m\n\u001b[1;32m      1\u001b[0m \u001b[0ma\u001b[0m \u001b[0;34m=\u001b[0m \u001b[0;34m{\u001b[0m\u001b[0;36m1\u001b[0m\u001b[0;34m,\u001b[0m \u001b[0;36m1\u001b[0m\u001b[0;34m,\u001b[0m \u001b[0;36m2\u001b[0m\u001b[0;34m,\u001b[0m \u001b[0;36m3\u001b[0m\u001b[0;34m,\u001b[0m \u001b[0;36m3\u001b[0m\u001b[0;34m,\u001b[0m \u001b[0;36m4\u001b[0m\u001b[0;34m,\u001b[0m \u001b[0;36m1\u001b[0m\u001b[0;34m,\u001b[0m \u001b[0;36m5\u001b[0m\u001b[0;34m}\u001b[0m\u001b[0;34m\u001b[0m\u001b[0;34m\u001b[0m\u001b[0m\n\u001b[1;32m      2\u001b[0m \u001b[0mprint\u001b[0m\u001b[0;34m(\u001b[0m\u001b[0ma\u001b[0m\u001b[0;34m)\u001b[0m \u001b[0;31m#set으로 콜렉션하면 중복된 키값은 다 합쳐져서 표현이됨.\u001b[0m\u001b[0;34m\u001b[0m\u001b[0;34m\u001b[0m\u001b[0m\n\u001b[0;32m----> 3\u001b[0;31m \u001b[0mprint\u001b[0m\u001b[0;34m(\u001b[0m\u001b[0ma\u001b[0m\u001b[0;34m[\u001b[0m\u001b[0;36m0\u001b[0m\u001b[0;34m]\u001b[0m\u001b[0;34m)\u001b[0m\u001b[0;34m\u001b[0m\u001b[0;34m\u001b[0m\u001b[0m\n\u001b[0m",
            "\u001b[0;31mTypeError\u001b[0m: 'set' object is not subscriptable"
          ]
        }
      ]
    },
    {
      "cell_type": "markdown",
      "metadata": {
        "id": "9lsm8rVfh9Tt"
      },
      "source": [
        "* **set()으로 집합으로 변환**"
      ]
    },
    {
      "cell_type": "code",
      "metadata": {
        "colab": {
          "base_uri": "https://localhost:8080/"
        },
        "id": "WcYftCR5h9Tu",
        "outputId": "02213e92-f701-4604-f3d7-a3983929ffa8"
      },
      "source": [
        "a = [1, 1, 2, 3, 3, 4, 1, 5]\n",
        "print(a)\n",
        "\n",
        "b = set(a) #list를 set으로 변환\n",
        "print(b)"
      ],
      "execution_count": null,
      "outputs": [
        {
          "output_type": "stream",
          "text": [
            "[1, 1, 2, 3, 3, 4, 1, 5]\n",
            "{1, 2, 3, 4, 5}\n"
          ],
          "name": "stdout"
        }
      ]
    },
    {
      "cell_type": "markdown",
      "metadata": {
        "id": "aG7cn6_Lh9Tu"
      },
      "source": [
        "+ **set operations**\n",
        " - 수학 연산과 동일\n",
        " - 교집합, 합집합, 차집합 등 지원"
      ]
    },
    {
      "cell_type": "code",
      "metadata": {
        "colab": {
          "base_uri": "https://localhost:8080/"
        },
        "id": "tYt2Chwdh9Tv",
        "outputId": "0552924d-4c0b-42b5-c53c-aab6f8cbe7c4"
      },
      "source": [
        "a = {1, 2, 3}\n",
        "b = {2, 3, 4}\n",
        "\n",
        "print(a.union(b)) # 합집합\n",
        "print(a.intersection(b)) # 교집합\n",
        "print(a.difference(b)) # 차집합\n",
        "print(a.issubset(b)) #부분 집합"
      ],
      "execution_count": null,
      "outputs": [
        {
          "output_type": "stream",
          "text": [
            "{1, 2, 3, 4}\n",
            "{2, 3}\n",
            "{1}\n",
            "False\n"
          ],
          "name": "stdout"
        }
      ]
    }
  ]
}