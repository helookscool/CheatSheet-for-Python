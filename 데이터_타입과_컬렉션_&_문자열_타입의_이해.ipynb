{
  "nbformat": 4,
  "nbformat_minor": 0,
  "metadata": {
    "kernelspec": {
      "display_name": "Python 3",
      "language": "python",
      "name": "python3"
    },
    "language_info": {
      "codemirror_mode": {
        "name": "ipython",
        "version": 3
      },
      "file_extension": ".py",
      "mimetype": "text/x-python",
      "name": "python",
      "nbconvert_exporter": "python",
      "pygments_lexer": "ipython3",
      "version": "3.7.3"
    },
    "colab": {
      "name": "데이터 타입과 컬렉션 & 문자열 타입의 이해_.ipynb의 사본",
      "provenance": [],
      "include_colab_link": true
    }
  },
  "cells": [
    {
      "cell_type": "markdown",
      "metadata": {
        "id": "view-in-github",
        "colab_type": "text"
      },
      "source": [
        "<a href=\"https://colab.research.google.com/github/helookscool/CheatSheet-for-Python/blob/main/%EB%8D%B0%EC%9D%B4%ED%84%B0_%ED%83%80%EC%9E%85%EA%B3%BC_%EC%BB%AC%EB%A0%89%EC%85%98_%26_%EB%AC%B8%EC%9E%90%EC%97%B4_%ED%83%80%EC%9E%85%EC%9D%98_%EC%9D%B4%ED%95%B4.ipynb\" target=\"_parent\"><img src=\"https://colab.research.google.com/assets/colab-badge.svg\" alt=\"Open In Colab\"/></a>"
      ]
    },
    {
      "cell_type": "markdown",
      "metadata": {
        "id": "5eyOnGZ5n-rK"
      },
      "source": [
        "### 학습목표\n",
        "1. 문자열(str) 타입 이해하기"
      ]
    },
    {
      "cell_type": "markdown",
      "metadata": {
        "id": "qI3xMJ6ln-rO"
      },
      "source": [
        "### **string (문자열)**\n",
        " - 복수개의 문자를 순서대로 나열 한 것\n",
        " - 문자열은 '(작은따옴표) 혹은 \"(큰따옴표) 사이에 문자를 넣어서 생성\n",
        " - 문자열 자체에 ', \"가 있는 경우에는 각각 그 반대의 기호로 생성"
      ]
    },
    {
      "cell_type": "markdown",
      "metadata": {
        "id": "OM0FP7iun-rP"
      },
      "source": [
        "#### **''' '''사용하여 표현 가능**\n",
        "  - 차이점 \n",
        "    - '', \"\" -> 한줄 문자열 표현\n",
        "    - ''' ''' -> 어려줄에 걸쳐 문자열 표현 가능"
      ]
    },
    {
      "cell_type": "code",
      "metadata": {
        "colab": {
          "base_uri": "https://localhost:8080/",
          "height": 136
        },
        "id": "R7JnauTIn-rP",
        "outputId": "0dd48160-ea09-45a5-854c-aec8833ada81"
      },
      "source": [
        "a = '\"Hello\" World'\n",
        "b = \"Hello' World\"\n",
        "c = \"Hello World. #이거 안되는 코드임\n",
        "\n",
        "It's wonderful world\" #이런건 안되는 코드임.\n",
        "\n",
        "print(a)\n",
        "print(b)\n",
        "print(c)"
      ],
      "execution_count": 2,
      "outputs": [
        {
          "output_type": "error",
          "ename": "SyntaxError",
          "evalue": "ignored",
          "traceback": [
            "\u001b[0;36m  File \u001b[0;32m\"<ipython-input-2-6875d84c0a19>\"\u001b[0;36m, line \u001b[0;32m3\u001b[0m\n\u001b[0;31m    c = \"Hello World. #이거 안되는 코드임\u001b[0m\n\u001b[0m                                 ^\u001b[0m\n\u001b[0;31mSyntaxError\u001b[0m\u001b[0;31m:\u001b[0m EOL while scanning string literal\n"
          ]
        }
      ]
    },
    {
      "cell_type": "code",
      "metadata": {
        "colab": {
          "base_uri": "https://localhost:8080/"
        },
        "id": "z4ACqvE0n-rQ",
        "outputId": "121f3f8c-b01a-42a4-985a-7aade3502b3c"
      },
      "source": [
        "c = '''Hello \n",
        "\n",
        "World'''\n",
        "\n",
        "d = \"\"\"Hello \n",
        "World\"\"\"\n",
        "\n",
        "print(c)\n",
        "print(d)"
      ],
      "execution_count": 18,
      "outputs": [
        {
          "output_type": "stream",
          "text": [
            "Hello \n",
            "\n",
            "World\n",
            "Hello \n",
            "World\n"
          ],
          "name": "stdout"
        }
      ]
    },
    {
      "cell_type": "markdown",
      "metadata": {
        "id": "Yu6Wc6xzn-rQ"
      },
      "source": [
        "#### escape string (이스케이프 문자)\n",
        "* 문자열내의 일부 문자의 의미를 달리하여 `특정한 효과`를 주는 것\n",
        "* `\\n` : new line `\\t` : tab 등\n",
        "\n"
      ]
    },
    {
      "cell_type": "code",
      "metadata": {
        "colab": {
          "base_uri": "https://localhost:8080/"
        },
        "id": "CdaAQS0sn-rR",
        "outputId": "3057709b-ef42-40bb-b808-877b10df43c7"
      },
      "source": [
        "print('Hello World\\n\\n')\n",
        "print('Ha\\thahaha')"
      ],
      "execution_count": 19,
      "outputs": [
        {
          "output_type": "stream",
          "text": [
            "Hello World\n",
            "\n",
            "\n",
            "Ha\thahaha\n"
          ],
          "name": "stdout"
        }
      ]
    },
    {
      "cell_type": "markdown",
      "metadata": {
        "id": "k1qC7Lgsn-rS"
      },
      "source": [
        "#### **indexing & slicing string (문자열 인덱스 및 추출)**\n",
        "  - 문자열의 각 문자는 순서가 있음\n",
        "  - 이때 각 문자열의 순서를 **인덱스** 라고 함\n",
        "  - 첫번째 문자부터 마지막까지 차례대로의 순서를 가짐\n",
        "  - 첫번째 시작문자의 순서는 0으로 시작 (1이 아님)"
      ]
    },
    {
      "cell_type": "markdown",
      "metadata": {
        "id": "sAkASrv6n-rS"
      },
      "source": [
        "* **연습문제**\n",
        "문자열의 마지막 문자의 순서의 값은?"
      ]
    },
    {
      "cell_type": "code",
      "metadata": {
        "colab": {
          "base_uri": "https://localhost:8080/"
        },
        "id": "lKj-v8yQn-rT",
        "outputId": "e549279f-8ada-4681-947d-acbafe02ec5a"
      },
      "source": [
        "a = 'Hello World' # 길이 : 11\n",
        "print(a[10])\n"
      ],
      "execution_count": 20,
      "outputs": [
        {
          "output_type": "stream",
          "text": [
            "d\n"
          ],
          "name": "stdout"
        }
      ]
    },
    {
      "cell_type": "markdown",
      "metadata": {
        "id": "bZEqQgq7n-rT"
      },
      "source": [
        "#### **-1 인덱스**\n",
        "  - 다른 언어와는 달리, python의 경우 음수 인덱스를 지원\n",
        "  - -1이 가장 마지막 인덱스를, -2가 마지막에서 두번째 인덱스를 의미..."
      ]
    },
    {
      "cell_type": "code",
      "metadata": {
        "id": "qDA08bi7n-rU",
        "colab": {
          "base_uri": "https://localhost:8080/"
        },
        "outputId": "b6dfe4aa-4684-44c0-aaad-500dac37c075"
      },
      "source": [
        "print(a[0])\n",
        "print(a[10])\n",
        "\n",
        "print(a[-1])\n",
        "print(a[-11])"
      ],
      "execution_count": 21,
      "outputs": [
        {
          "output_type": "stream",
          "text": [
            "H\n",
            "d\n",
            "d\n",
            "H\n"
          ],
          "name": "stdout"
        }
      ]
    },
    {
      "cell_type": "markdown",
      "metadata": {
        "id": "P3joCOBbn-rU"
      },
      "source": [
        "#### **인덱스의 범위**\n",
        "  - 인덱스는 [0 부터 문자열의 길이] 의 범위만 유효\n",
        "  - 음수 인덱스를 사용할 경우, [-문자열의 길이, -1]\n",
        "  - 범위를 넘어갈 경우 에러 발생"
      ]
    },
    {
      "cell_type": "code",
      "metadata": {
        "id": "iv7SYtYVn-rV",
        "colab": {
          "base_uri": "https://localhost:8080/",
          "height": 190
        },
        "outputId": "b4c451d3-c235-4afb-fcb5-f98c676e75ca"
      },
      "source": [
        "# print(a[11])\n",
        "print(a[-12])"
      ],
      "execution_count": 22,
      "outputs": [
        {
          "output_type": "error",
          "ename": "IndexError",
          "evalue": "ignored",
          "traceback": [
            "\u001b[0;31m---------------------------------------------------------------------------\u001b[0m",
            "\u001b[0;31mIndexError\u001b[0m                                Traceback (most recent call last)",
            "\u001b[0;32m<ipython-input-22-b2b0e248689c>\u001b[0m in \u001b[0;36m<module>\u001b[0;34m()\u001b[0m\n\u001b[1;32m      1\u001b[0m \u001b[0;31m# print(a[11])\u001b[0m\u001b[0;34m\u001b[0m\u001b[0;34m\u001b[0m\u001b[0;34m\u001b[0m\u001b[0m\n\u001b[0;32m----> 2\u001b[0;31m \u001b[0mprint\u001b[0m\u001b[0;34m(\u001b[0m\u001b[0ma\u001b[0m\u001b[0;34m[\u001b[0m\u001b[0;34m-\u001b[0m\u001b[0;36m12\u001b[0m\u001b[0;34m]\u001b[0m\u001b[0;34m)\u001b[0m\u001b[0;34m\u001b[0m\u001b[0;34m\u001b[0m\u001b[0m\n\u001b[0m",
            "\u001b[0;31mIndexError\u001b[0m: string index out of range"
          ]
        }
      ]
    },
    {
      "cell_type": "markdown",
      "metadata": {
        "id": "Gq4ih1uZn-rW"
      },
      "source": [
        "#### **문자열 slicing**\n",
        "  - 슬라이싱은 대괄호씀!!!!\n",
        "  - 인덱스가 하나의 문자만을 추출한다면,\n",
        "  - slicing은 부분 문자열을 추출한다고 볼 수 있음\n",
        "  - [시작:끝]와 같이 명시하여 [시작, 끝]에 해당하는 부분 문자열을 추출\n",
        "  - 시작, 끝 인덱스가 생략이 되어 있다면, 0부터 혹은 끝까지로 간주"
      ]
    },
    {
      "cell_type": "code",
      "metadata": {
        "id": "ZMEUMe4Un-rX",
        "colab": {
          "base_uri": "https://localhost:8080/"
        },
        "outputId": "dcc2e16b-2679-4642-ce42-f8621f1481b2"
      },
      "source": [
        "a = 'Hello world'\n",
        "\n",
        "print(a[0:11])\n",
        "print(a[0:1])\n",
        "\n",
        "print(a[:5])\n",
        "print(a[3:])\n",
        "\n",
        "print(a[:])"
      ],
      "execution_count": 23,
      "outputs": [
        {
          "output_type": "stream",
          "text": [
            "Hello world\n",
            "H\n",
            "Hello\n",
            "lo world\n",
            "Hello world\n"
          ],
          "name": "stdout"
        }
      ]
    },
    {
      "cell_type": "markdown",
      "metadata": {
        "id": "2Xw0Y8uAn-rX"
      },
      "source": [
        "#### **문자열 함수**\n",
        "  - 문자열은 여러가지 기능 제공을 위한 함수를 내장\n",
        "  - 함수란 특정 기능을 하는 코드로 언제든지 호출하여 해당 기능을 사용 가능하도록 구성한 코드\n",
        "  - 추후에 함수에 대해 자세히 다룰 예정"
      ]
    },
    {
      "cell_type": "code",
      "metadata": {
        "id": "B7suF6FIn-rY",
        "colab": {
          "base_uri": "https://localhost:8080/",
          "height": 35
        },
        "outputId": "95a06d69-5c1f-4f80-8c34-a12b6feb05d9"
      },
      "source": [
        "a = 'hello world'\n",
        "a.upper() #소문자를 대문자로 바꿔주는 함수"
      ],
      "execution_count": 24,
      "outputs": [
        {
          "output_type": "execute_result",
          "data": {
            "application/vnd.google.colaboratory.intrinsic+json": {
              "type": "string"
            },
            "text/plain": [
              "'HELLO WORLD'"
            ]
          },
          "metadata": {
            "tags": []
          },
          "execution_count": 24
        }
      ]
    },
    {
      "cell_type": "markdown",
      "metadata": {
        "id": "6xv_qv55n-rY"
      },
      "source": [
        "* **replace** \n",
        " - 문자열 내의 특정 문자를 치환"
      ]
    },
    {
      "cell_type": "code",
      "metadata": {
        "id": "ku5UpYSsn-rY",
        "colab": {
          "base_uri": "https://localhost:8080/",
          "height": 35
        },
        "outputId": "af452423-e20f-4e9a-b639-4e95c79c075a"
      },
      "source": [
        "a = 'hello world'\n",
        "a.replace('h', 'j')\n"
      ],
      "execution_count": 25,
      "outputs": [
        {
          "output_type": "execute_result",
          "data": {
            "application/vnd.google.colaboratory.intrinsic+json": {
              "type": "string"
            },
            "text/plain": [
              "'jello world'"
            ]
          },
          "metadata": {
            "tags": []
          },
          "execution_count": 25
        }
      ]
    },
    {
      "cell_type": "markdown",
      "metadata": {
        "id": "O1gsU9zan-rZ"
      },
      "source": [
        "* **format**\n",
        " - 문자열내의 특정한 값을 변수로부터 초기화하여 동적으로 문자열을 생성 "
      ]
    },
    {
      "cell_type": "code",
      "metadata": {
        "id": "x9PpaxRin-rZ",
        "colab": {
          "base_uri": "https://localhost:8080/"
        },
        "outputId": "1c1d7dd1-ccd6-45d4-a794-d95f7087c556"
      },
      "source": [
        "temperature = 25.5\n",
        "prob = 80.0\n",
        "\n",
        "a = '오늘 기온{}도 이고, 비올 확률은 {}% 입니다.'.format(temperature, prob)\n",
        "print(a)"
      ],
      "execution_count": 26,
      "outputs": [
        {
          "output_type": "stream",
          "text": [
            "오늘 기온25.5도 이고, 비올 확률은 80.0% 입니다.\n"
          ],
          "name": "stdout"
        }
      ]
    },
    {
      "cell_type": "markdown",
      "metadata": {
        "id": "jRWuq2kbn-rZ"
      },
      "source": [
        "* **split**\n",
        " - 문자열을 특정한 문자 구분하여(delimiter) 문자열의 리스트로 치환"
      ]
    },
    {
      "cell_type": "code",
      "metadata": {
        "id": "MPiFq5RPn-ra",
        "colab": {
          "base_uri": "https://localhost:8080/"
        },
        "outputId": "fab2d51b-fc91-4336-dbe1-9d69ef391711"
      },
      "source": [
        "a = 'hello world what a nice weather'\n",
        "a.split('w') "
      ],
      "execution_count": 27,
      "outputs": [
        {
          "output_type": "execute_result",
          "data": {
            "text/plain": [
              "['hello ', 'orld ', 'hat a nice ', 'eather']"
            ]
          },
          "metadata": {
            "tags": []
          },
          "execution_count": 27
        }
      ]
    }
  ]
}