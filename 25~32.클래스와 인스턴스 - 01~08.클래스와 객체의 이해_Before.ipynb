{
 "cells": [
  {
   "cell_type": "markdown",
   "metadata": {},
   "source": [
    "### 학습목표\n",
    " 1. 클래스와 오브젝트에 대한 이해"
   ]
  },
  {
   "cell_type": "markdown",
   "metadata": {},
   "source": [
    "#### **class란?**\n",
    " + 실세계의 것을 모델링하여 속성(attribute)와 동작(method)를 갖는 데이터 타입\n",
    " + python에서의 string, int, list, dict.. 모두가 다 클래스로 존재\n",
    " + 예를들어 학생이라는 클래스를 만든다면, 학생을 나타내는 속성과 학생이 행하는 행동을 함께 정의 할 수 있음\n",
    " + 따라서, 다루고자 하는 데이터(변수) 와 데이터를 다루는 연산(함수)를 하나로 캡슐화(encapsulation)하여 클래스로 표현\n",
    " + 모델링에서 중요시 하는 속성에 따라 클래스의 속성과 행동이 각각 달라짐"
   ]
  },
  {
   "cell_type": "code",
   "execution_count": 1,
   "metadata": {},
   "outputs": [
    {
     "name": "stdout",
     "output_type": "stream",
     "text": [
      "[1, 2, 3, 4, 5]\n"
     ]
    }
   ],
   "source": [
    "a = [1, 2, 3, 4]\n",
    "a.append(5)\n",
    "print(a)"
   ]
  },
  {
   "cell_type": "markdown",
   "metadata": {},
   "source": [
    "#### **object 란?**\n",
    " - 클래스로 생성되어 구체화된 객체(인스턴스)\n",
    " - 파이썬의 모든 것(int, str, list..etc)은 객체(인스턴스)\n",
    " - 실제로 class가 인스턴스화 되어 메모리에 상주하는 상태를 의미\n",
    " - class가 빵틀이라면, object는 실제로 빵틀로 찍어낸 빵이라고 비유 가능\n"
   ]
  },
  {
   "cell_type": "code",
   "execution_count": null,
   "metadata": {},
   "outputs": [],
   "source": []
  },
  {
   "cell_type": "markdown",
   "metadata": {},
   "source": [
    "#### **class 선언하기**\n",
    "  - 객체를 생성하기 위해선 객체의 모체가 되는 class를 미리 선언해야 함 "
   ]
  },
  {
   "cell_type": "code",
   "execution_count": 3,
   "metadata": {},
   "outputs": [],
   "source": [
    "class Person:\n",
    "    pass  #함수 정의는 하고 싶은데, 일단 그 안을 비워두고 싶을때 pass라고 적으면 된다. "
   ]
  },
  {
   "cell_type": "code",
   "execution_count": 4,
   "metadata": {},
   "outputs": [
    {
     "name": "stdout",
     "output_type": "stream",
     "text": [
      "<class '__main__.Person'> <class '__main__.Person'>\n",
      "<class 'list'> <class 'list'>\n"
     ]
    }
   ],
   "source": [
    "bob = Person()\n",
    "cathy = Person()\n",
    "\n",
    "a = list()\n",
    "b = list()\n",
    "\n",
    "#밥과 케씌의 수식과 a,b의 수식이 형식이 같음을 볼수 있어야 한다. '=' a의 타입은 리스트이고, 밥의 타입은 person이다. \n",
    "\n",
    "\n",
    "print(type(bob), type(cathy))\n",
    "print(type(a), type(b))"
   ]
  },
  {
   "cell_type": "code",
   "execution_count": 10,
   "metadata": {},
   "outputs": [
    {
     "name": "stdout",
     "output_type": "stream",
     "text": [
      "<__main__.Person object at 0x0000028176AA84C0> is generated\n",
      "<__main__.Person object at 0x0000028176AA8400> is generated\n"
     ]
    },
    {
     "data": {
      "text/plain": [
       "('Kate', 10)"
      ]
     },
     "execution_count": 10,
     "metadata": {},
     "output_type": "execute_result"
    }
   ],
   "source": [
    "class Person: #이쯤되면 self가 person인가.-->p1 = Person() ; 여기서는 self가 p1, p2 = Person() ; 여기서는 self가 p2임\n",
    "    def __init__(self):\n",
    "        print(self, 'is generated')\n",
    "        self.name = 'Kate'\n",
    "        self.age = 10\n",
    "        #person이라는 함수가 갖는 데이터, 즉 속성이 name과 age 2가지가 있다는 뜻임.\n",
    "        \n",
    "p1 = Person()#__init__함수는 이렇게 괄호를 열어서 타입(여기선 person을 말함)의 객체를 생성할때 부르는 것이다.\n",
    "p2 = Person()\n",
    "\n",
    "p1.name, p1.age\n",
    "\n",
    "#이런데 이렇게 코드를 구성하면 모든 person이 kate고 나이가 10이 되버림...고로 좀더 동적으로 코드를 구성해볼 수 있다."
   ]
  },
  {
   "cell_type": "code",
   "execution_count": 12,
   "metadata": {},
   "outputs": [
    {
     "data": {
      "text/plain": [
       "('aaron', 20)"
      ]
     },
     "execution_count": 12,
     "metadata": {},
     "output_type": "execute_result"
    }
   ],
   "source": [
    "#name속성도 외부에서 바꿀수 있다. 바꾸고 싶으면 위의 __init__(self)쓴 생성자 코드 부분에서 썼던 부분을 바탕으로 수정할수 있다. \n",
    "p1.name = 'aaron'\n",
    "p1.age = 20\n",
    "\n",
    "p1.name, p1.age"
   ]
  },
  {
   "cell_type": "code",
   "execution_count": 13,
   "metadata": {},
   "outputs": [
    {
     "name": "stdout",
     "output_type": "stream",
     "text": [
      "Bob 30\n",
      "Kate 20\n",
      "Aaron 10\n"
     ]
    }
   ],
   "source": [
    "#좀더 동적으로 구성해본 코드\n",
    "class Person:\n",
    "    def __init__(self, name, age=10): #self는 그냥 항상 오는 페럼;터 이므로 걍 자동으로 붙혀두고, 파라미터를 붙이고 싶은걸 더 붙인다.\n",
    "        # print(self, 'is generated')\n",
    "        self.name = name\n",
    "        self.age = age\n",
    "        \n",
    "p1 = Person('Bob', 30)\n",
    "p2 = Person('Kate', 20)\n",
    "p3 = Person('Aaron')\n",
    "\n",
    "print(p1.name, p1.age)\n",
    "print(p2.name, p2.age)\n",
    "print(p3.name, p3.age)\n"
   ]
  },
  {
   "cell_type": "code",
   "execution_count": 17,
   "metadata": {},
   "outputs": [
    {
     "name": "stdout",
     "output_type": "stream",
     "text": [
      "Bob 30\n",
      "Kate 20\n"
     ]
    }
   ],
   "source": [
    "class Person:\n",
    "    def __init__(self, n, a=10): #그냥 이렇게 구성해도 되는데 이건 코드 가독성이 떨어짐. \n",
    "        # print(self, 'is generated')\n",
    "        self.name = n\n",
    "        self.age = a\n",
    "        \n",
    "p1 = Person('Bob', 30)\n",
    "p2 = Person('Kate', 20)\n",
    "\n",
    "\n",
    "print(p1.name, p1.age)\n",
    "print(p2.name, p2.age)\n"
   ]
  },
  {
   "cell_type": "markdown",
   "metadata": {},
   "source": [
    "#### __init__(self)\n",
    " + 생성자, 클래스 인스턴스가 생성될 때 호출됨\n",
    " + self인자는 항상 첫번째에 오며 자기 자신을 가리킴\n",
    " + 이름이 꼭 self일 필요는 없지만, 관례적으로 self로 사용\n",
    " \n",
    " + 생성자에서는 해당 클래스가 다루는 데이터를 정의\n",
    "   - 이 데이터를 멤버 변수(member variable) 또는 속성(attribute)라고 함"
   ]
  },
  {
   "cell_type": "code",
   "execution_count": 20,
   "metadata": {},
   "outputs": [
    {
     "name": "stdout",
     "output_type": "stream",
     "text": [
      "self:  <__main__.Person object at 0x0000028176AC8D30>\n",
      "self:  <__main__.Person object at 0x00000281769CA400>\n",
      "<__main__.Person object at 0x0000028176AC8D30>\n",
      "<__main__.Person object at 0x00000281769CA400>\n",
      "self: <__main__.Person object at 0x0000028176AC8D30>\n",
      "Aaron 은 잠을 잡니다.\n",
      "self: <__main__.Person object at 0x00000281769CA400>\n",
      "Bob 은 잠을 잡니다.\n"
     ]
    }
   ],
   "source": [
    "class Person:\n",
    "    def __init__(self, name, age):\n",
    "        print('self: ', self)\n",
    "        self.name = name\n",
    "        self.age = age\n",
    "        \n",
    "    def sleep(self):\n",
    "        print('self:', self)\n",
    "        print(self.name, '은 잠을 잡니다.')\n",
    "        \n",
    "a = Person('Aaron', 20) #person이라는 객체가 생성된 다음에 위의 init이 불러지는거임. 여기서 self는 a임\n",
    "b = Person('Bob', 30)\n",
    "\n",
    "print(a)# 위의 print('self: ', self)한 경우에 저장된 주소와 a가 저장된 주소가 같다. 결국 self는 결국 그 객체(a와 b) 자체라는 뜻임. \n",
    "print(b)\n",
    "\n",
    "a.sleep()\n",
    "b.sleep()\n"
   ]
  },
  {
   "cell_type": "markdown",
   "metadata": {},
   "source": [
    "#### **self**\n",
    " - 파이썬의 method는 항상 첫번째 인자로 self를 전달\n",
    " - self는 현재 해당 메쏘드가 호출되는 객체 자신을 가리킴\n",
    " - C++/C#, Java의 this에 해당\n",
    " - 역시, 이름이 self일 필요는 없으나, 위치는 항상 맨 처음의 parameter이며 관례적으로 self로 사용"
   ]
  },
  {
   "cell_type": "code",
   "execution_count": null,
   "metadata": {},
   "outputs": [],
   "source": [
    "class Person:\n",
    "    def __init__(self, name, age):\n",
    "        print('self: ', self)\n",
    "        self.name = name\n",
    "        self.age = age\n",
    "        \n",
    "    def sleep(self):\n",
    "        print('self:', self)\n",
    "        print(self.name, '은 잠을 잡니다.')\n",
    "        \n",
    "a = Person('Aaron', 20)\n",
    "b = Person('Bob', 30)\n",
    "\n",
    "print(a)\n",
    "print(b)\n",
    "\n",
    "a.sleep()\n",
    "b.sleep()\n"
   ]
  },
  {
   "cell_type": "markdown",
   "metadata": {},
   "source": [
    "#### **mehtod 정의**\n",
    " + 멤버함수라고도 하며, 해당 클래스의 object에서만 호출가능\n",
    " + 메쏘드는 객체 레벨에서 호출되며, 해당 객체의 속성에 대한 연산을 행함\n",
    " + {obj}.{method}() 형태로 호출됨"
   ]
  },
  {
   "cell_type": "code",
   "execution_count": 1,
   "metadata": {},
   "outputs": [
    {
     "data": {
      "text/plain": [
       "['test']"
      ]
     },
     "execution_count": 1,
     "metadata": {},
     "output_type": "execute_result"
    }
   ],
   "source": [
    "#{obj}.{method}() 형태로 호출됨 이게 이런뜻임.\n",
    "a = list()\n",
    "a.append(0)\n",
    "\n",
    "s = 'test'\n",
    "s.split()"
   ]
  },
  {
   "cell_type": "code",
   "execution_count": 3,
   "metadata": {},
   "outputs": [
    {
     "data": {
      "text/plain": [
       "0"
      ]
     },
     "execution_count": 3,
     "metadata": {},
     "output_type": "execute_result"
    }
   ],
   "source": [
    "# 마래 만든 Counter클래스의 기능 \n",
    "# 1. 숫자를 하나 증가\n",
    "# 2. 숫자를 0으로 초기화\n",
    "class Counter: #현재 counter라는 타입의 경우 num아라는 데이터를 갖고, 처음 생성시\n",
    "    #0으로 초기화가 된다. \n",
    "    def __init__(self):\n",
    "        self.num = 0\n",
    "\n",
    "c1 = Counter()\n",
    "c1.num #--> 근데 이렇게 말고 메소드를 통해서 속성값을 확인해보자. 밑의방식으로.\n"
   ]
  },
  {
   "cell_type": "code",
   "execution_count": 7,
   "metadata": {},
   "outputs": [
    {
     "name": "stdout",
     "output_type": "stream",
     "text": [
      "현재값은: 0\n",
      "현재값은: 3\n",
      "현재값은: 0\n",
      "현재값은: 1\n"
     ]
    }
   ],
   "source": [
    "class Counter: #현재 counter라는 타입의 경우 num아라는 데이터를 갖고, 처음 생성시\n",
    "    #0으로 초기화가 된다. \n",
    "    def __init__(self):\n",
    "        self.num = 0 #-->이걸 counter 클래스의 초기 속성이라고 보면 되고,\n",
    "    \n",
    "    def increment(self):\n",
    "        self.num += 1 #-->요런 형태로 초기 속성에 변화를 줄수 있는데, 요런 형태를 메소드라고 함.\n",
    "    \n",
    "    def reset(self):\n",
    "        self.num = 0\n",
    "    \n",
    "    def print_current_value(self):\n",
    "        print('현재값은:', self.num)\n",
    "\n",
    "c1 = Counter()\n",
    "c1.print_current_value()\n",
    "c1.increment()\n",
    "c1.increment()\n",
    "c1.increment()\n",
    "c1.print_current_value()\n",
    "\n",
    "c1.reset()\n",
    "\n",
    "c1.print_current_value()\n",
    "\n",
    "\n",
    "c2 = Counter()#--> 여기서 클래스 레벨은 Counter()이고 객체레벨은 Counter()로 생성한 c1, c2임. \n",
    "c2.increment()\n",
    "c2.print_current_value()\n",
    "#결과값중 위의 3개는 c1의 값의 변화이고 맨아래 4번째는 c2의 값의 변화임\n",
    "#이렇게 클래스를 활용해서 클래스가 다루고자 하는 데이터를 init이라는 함수의\n",
    "#속성으로가지고 있고, 속성을 뭔가 변경하고자 하는 것들은 메소드라는 형태의 \n",
    "#함수 형태로 구현을 해서 속성의 변경을 가할수 있다. "
   ]
  },
  {
   "cell_type": "markdown",
   "metadata": {},
   "source": [
    "#### **method type**\n",
    " - instance method - 객체로 호출\n",
    "   - 메쏘드는 객체 레벨로 호출 되기 때문에, 해당 메쏘드를 호출한 객체에만 영향을 미침\n",
    " - class method(static method) - class로 호출\n",
    "   - 클래스 메쏘드의 경우, 클래스 레벨로 호출되기 때문에, 클래스 멤버 변수만 변경 가능\n"
   ]
  },
  {
   "cell_type": "code",
   "execution_count": 8,
   "metadata": {},
   "outputs": [
    {
     "data": {
      "text/plain": [
       "200"
      ]
     },
     "execution_count": 8,
     "metadata": {},
     "output_type": "execute_result"
    }
   ],
   "source": [
    "# 덧셈과 곱셈을 지원하는 math라는 클래스를 만들어보자.\n",
    "class Math: #--> 보면 이 Math라는 클래스는 초기속성이 없다. 즉 self가 할일이 없는것이다. \n",
    "    #이렇게 자기 내부에 데이터를 유지하지 않는, 즉 속성이 없는 클래스의 경우는 인스텐스레벨의 메소드를 생성할 필요가 없다.\n",
    "    #내부적으로 유지할 데이터가 없고 그냥 전달된 데이터에 대하여 그냥 처리만 하고 값을 변환하는 경우\n",
    "    #이 함수들을 대부분 @staticmethod 라고 대부분 이렇게 명시를 해준다.\n",
    "    #이렇게 데코레이션으로 @staticmethod라고 달아주게 되면 def add(self, a, b):함수는 인스턴스 메소드가 아닌 static하게 동작을 하게\n",
    "    #되므로 클래스이름으로 이 함수를 부를수 있게된다. \n",
    "    @staticmethod\n",
    "    def add(a, b): #--> self없어짐.\n",
    "        return a + b\n",
    "    @staticmethod\n",
    "    def multiply(a, b):\n",
    "        return a * b\n",
    "\n",
    "#m = math() --> 이렇게 객체를 생성한다음\n",
    "#m.add(10, 20)\n",
    "#m.multiply(10, 20) 이런식으로 함수를 부르는게 아니라,\n",
    "\n",
    "Math.add(10, 20) #--> 이렇게 부를수 있게 된다고. 클래스 이름으로 이 함수를 부르게 됨.\n",
    "Math.multiply(10, 20)\n",
    "\n",
    "# 이런경우가 아니라면 대부분은 클래스의 일반적인 형태, 즉 메소드 형태로 함수를 구현하고, 항상 self키워드는 가지고 있어야 하고, \n",
    "#객체레벨(위의 m = math()같은거)로 호출되게 만들어야 한다. "
   ]
  },
  {
   "cell_type": "markdown",
   "metadata": {},
   "source": [
    " #### **Class Inheritance (상속)**\n",
    "  - 기존에 정의해둔 클래스의 기능을 그대로 물려받을 수 있다.\n",
    "  - 기존 클래스에 기능 일부를 추가하거나, 변경하여 새로운 클래스를 정의한다.\n",
    "  - 코드를 재사용할 수 있게된다.\n",
    "  - 상속 받고자 하는 대상인 기존 클래스는 (Parent, Super, Base class 라고 부른다.)\n",
    "  - 상속 받는 새로운 클래스는(Child, Sub, Derived class 라고 부른다.)\n",
    "  - 의미적으로 is-a관계를 갖는다"
   ]
  },
  {
   "cell_type": "code",
   "execution_count": 3,
   "metadata": {},
   "outputs": [
    {
     "name": "stdout",
     "output_type": "stream",
     "text": [
      "Bob은 BBQ를 먹습니다.\n",
      "Bob은 30분동안 잡니다.\n",
      "Bob은 60분동안 일합니다.\n"
     ]
    }
   ],
   "source": [
    "#초기구현\n",
    "class Person:\n",
    "    def __init__(self, name, age):\n",
    "        self.name = name\n",
    "        self.age = age\n",
    "        \n",
    "    def eat(self, food):\n",
    "        print('{}은 {}를 먹습니다.'.format(self.name, food))\n",
    "    \n",
    "    def sleep(self, minute):\n",
    "        print('{}은 {}분동안 잡니다.'.format(self.name, minute))\n",
    "    \n",
    "    def work(self, minute):\n",
    "        print('{}은 {}분동안 일합니다.'.format(self.name, minute))\n",
    "\n",
    "       \n",
    "    \n",
    "class Student(Person):#상속을 할때는 상속받으려는 클래스 이름 뒷부분에 괄호를 열어서 자신이 상속받고자 하는 클래스를 적으면 된다.\n",
    "    pass\n",
    "       \n",
    "    \n",
    "class Employee(Person):\n",
    "    pass\n",
    "\n",
    "        \n",
    "bob = Employee('Bob', 25)\n",
    "bob.eat('BBQ')\n",
    "bob.sleep(30)\n",
    "bob.work(60)\n",
    "    \n"
   ]
  },
  {
   "cell_type": "code",
   "execution_count": 8,
   "metadata": {},
   "outputs": [
    {
     "name": "stdout",
     "output_type": "stream",
     "text": [
      "지훈은 목살를 먹습니다.\n",
      "지훈은 100분동안 잡니다.\n",
      "지훈은 50분동안 일합니다.\n",
      "Bob은 BBQ를 먹습니다.\n",
      "Bob은 30분동안 잡니다.\n",
      "Bob은 60분동안 일합니다.\n"
     ]
    }
   ],
   "source": [
    "class Person:\n",
    "    def __init__(self, name, age):\n",
    "        self.name = name\n",
    "        self.age = age\n",
    "        \n",
    "    def eat(self, food):\n",
    "        print('{}은 {}를 먹습니다.'.format(self.name, food))\n",
    "    \n",
    "    def sleep(self, minute):\n",
    "        print('{}은 {}분동안 잡니다.'.format(self.name, minute))\n",
    "    \n",
    "    def work(self, minute):\n",
    "        print('{}은 {}분동안 일합니다.'.format(self.name, minute))\n",
    "\n",
    "class Student(Person):\n",
    "    def __init__(self, name, age):\n",
    "        self.name = name\n",
    "        self.age = age\n",
    "    \n",
    "class Employee(Person):\n",
    "    def __init__(self, name, age):\n",
    "        self.name = name\n",
    "        self.age = age\n",
    "\n",
    "        \n",
    "#Student는 아무런 기능도 정의되어 있지 않고, 단지 Person으로부터 기능을 상속받아 쓰이고 있음. 고로 eat, work, sleep이란 함수가 없어도\n",
    "#동작이 가능하다. \n",
    "지훈 = Student('지훈', 29) \n",
    "지훈.eat('목살')\n",
    "지훈.sleep(100)\n",
    "지훈.work(50)\n",
    "        \n",
    "        \n",
    "bob = Employee('Bob', 25)\n",
    "bob.eat('BBQ')\n",
    "bob.sleep(30)\n",
    "bob.work(60)\n",
    "    \n",
    "    "
   ]
  },
  {
   "cell_type": "markdown",
   "metadata": {},
   "source": [
    "#### **method override**\n",
    " - 부모 클래스의 method를 재정의(override)\n",
    " - 하위 클래스(자식 클래스) 의 인스턴스로 호출시, 재정의된 메소드가 호출됨"
   ]
  },
  {
   "cell_type": "code",
   "execution_count": 10,
   "metadata": {},
   "outputs": [
    {
     "name": "stdout",
     "output_type": "stream",
     "text": [
      "지훈은 목살를 먹습니다.\n",
      "지훈은 100분동안 잡니다.\n",
      "지훈은 50분동안 공부합니다.\n",
      "Bob은 BBQ를 먹습니다.\n",
      "Bob은 30분동안 잡니다.\n",
      "Bob은 60분동안 업무를 합니다.\n"
     ]
    }
   ],
   "source": [
    "class Person:\n",
    "    def __init__(self, name, age):\n",
    "        self.name = name\n",
    "        self.age = age\n",
    "        \n",
    "    def eat(self, food):\n",
    "        print('{}은 {}를 먹습니다.'.format(self.name, food))\n",
    "    \n",
    "    def sleep(self, minute):\n",
    "        print('{}은 {}분동안 잡니다.'.format(self.name, minute))\n",
    "    \n",
    "    def work(self, minute):\n",
    "        print('{}은 {}분동안 일합니다.'.format(self.name, minute))\n",
    "\n",
    "class Student(Person):\n",
    "    def __init__(self, name, age):\n",
    "        self.name = name\n",
    "        self.age = age\n",
    "        \n",
    "    def work(self, minute): #이게 method override임. Student 클래스가 부모의 Person클래스를 받아서 자신만의 것으로 재정의 가능. \n",
    "        print('{}은 {}분동안 공부합니다.'.format(self.name, minute))\n",
    "        \n",
    "class Employee(Person):\n",
    "    def __init__(self, name, age):\n",
    "        self.name = name\n",
    "        self.age = age\n",
    "        \n",
    "    def work(self, minute):\n",
    "        print('{}은 {}분동안 업무를 합니다.'.format(self.name, minute))\n",
    "\n",
    "지훈 = Student('지훈', 29) \n",
    "지훈.eat('목살')\n",
    "지훈.sleep(100)\n",
    "지훈.work(50)\n",
    "        \n",
    "bob = Employee('Bob', 25)\n",
    "bob.eat('BBQ')\n",
    "bob.sleep(30)\n",
    "bob.work(60)"
   ]
  },
  {
   "cell_type": "markdown",
   "metadata": {},
   "source": [
    "#### super \n",
    " - 하위클래스(자식 클래스)에서 부모클래스의 method를 호출할 때 사용"
   ]
  },
  {
   "cell_type": "code",
   "execution_count": 11,
   "metadata": {},
   "outputs": [
    {
     "name": "stdout",
     "output_type": "stream",
     "text": [
      "Bob은 BBQ를 먹습니다.\n",
      "Bob은 30분동안 잡니다.\n",
      "Bob은 60분동안 준비를 합니다.\n",
      "Bob은 60분동안 업무를 합니다.\n"
     ]
    }
   ],
   "source": [
    "#오버라이딩을 해버리면 덮어 씌워버린 부분의 부모클래스의 기능이 완전히 사라지게 되버린다. 이걸 극복하자고 만든게 super.\n",
    "\n",
    "class Person:\n",
    "    def __init__(self, name, age):\n",
    "        self.name = name\n",
    "        self.age = age\n",
    "        \n",
    "    def eat(self, food):\n",
    "        print('{}은 {}를 먹습니다.'.format(self.name, food))\n",
    "    \n",
    "    def sleep(self, minute):\n",
    "        print('{}은 {}분동안 잡니다.'.format(self.name, minute))\n",
    "    \n",
    "    def work(self, minute):\n",
    "        print('{}은 {}분동안 준비를 합니다.'.format(self.name, minute))\n",
    "\n",
    "class Student(Person):\n",
    "    def __init__(self, name, age):\n",
    "        self.name = name\n",
    "        self.age = age\n",
    "        \n",
    "    def work(self, minute):\n",
    "        super().work(minute) #이부분은 super고 \n",
    "        print('{}은 {}분동안 공부합니다.'.format(self.name, minute)) #이 부분은 오버라이딩임. \n",
    "        #이렇게 구성하면 work함수를 쓸때 부모의 함수와 오버라이딩의 함수 둘다 쓸수 있음,\n",
    "        \n",
    "class Employee(Person):\n",
    "    def __init__(self, name, age):\n",
    "        self.name = name\n",
    "        self.age = age\n",
    "        \n",
    "    def work(self, minute):\n",
    "        super().work(minute)\n",
    "        print('{}은 {}분동안 업무를 합니다.'.format(self.name, minute))\n",
    "        \n",
    "bob = Employee('Bob', 25)\n",
    "bob.eat('BBQ')\n",
    "bob.sleep(30)\n",
    "bob.work(60)"
   ]
  },
  {
   "cell_type": "markdown",
   "metadata": {},
   "source": [
    "#### **special method**\n",
    " \n",
    " - 클래스 또한 파이썬의 기본 데이터 타입처럼 사칙연산이 가능하도록 구성해보자. \n",
    " - 그냥 바로 '어떤 클래스+어떤클래스 = 어떤 수' 또는 len()함수의 파라미터로 넣는다든지 --> 이것처럼 그냥 클래스를 바로 직관적이게 연산이 가능하도록 하는 방법.\n",
    " - __로 시작 __로 끝나는 특수 함수\n",
    " - 해당 메쏘드들을 구현하면, 커스텀 객체에 여러가지 파이썬 내장 함수나 연산자를 적용 가능\n",
    " - 오버라이딩 가능한 함수 목록은 아래 링크에서 참조 \n",
    "   - https://docs.python.org/3/reference/datamodel.html\n",
    "   \n",
    "   아래의 예시는 point라는 클래스를 만들건데, 클래스로 사칙연산이 가능하도록 만들고 싶다 이거임. "
   ]
  },
  {
   "cell_type": "code",
   "execution_count": 15,
   "metadata": {},
   "outputs": [
    {
     "name": "stdout",
     "output_type": "stream",
     "text": [
      "<__main__.Point object at 0x0000024BB50B4970>\n",
      "<__main__.Point object at 0x0000024BB50B46D0>\n"
     ]
    }
   ],
   "source": [
    "# Point \n",
    "# 2차원 좌표평면 각 점(x, y) \n",
    "# 연산\n",
    "# 두점 의 덧셈, 뺄셈 (1, 2) + (3, 4) = (4, 6)\n",
    "# 한점과 숫자의 곱셈 (1,  2) * 3 = (3, 6)\n",
    "# 그 점의 길이 (0,0) 부터의 거리\n",
    "# x, y 값 가져오기\n",
    "# 출력하기\n",
    "\n",
    "\n",
    "#<클래스 생성>\n",
    "class Point:\n",
    "    def __init__(self, x, y):\n",
    "        self.x = x\n",
    "        self.y = y \n",
    "        \n",
    "#<객체 생성>        \n",
    "p1 = Point(3, 4)\n",
    "p2 = Point(2, 7)\n",
    "\n",
    "print(p1)\n",
    "print(p2) # 이런 객체는 사람눈으로 이해하기 힘드니까, 좀 수정해볼까. 객체에 바로 함수를 적용하겠다. "
   ]
  },
  {
   "cell_type": "code",
   "execution_count": 25,
   "metadata": {
    "scrolled": true
   },
   "outputs": [
    {
     "name": "stdout",
     "output_type": "stream",
     "text": [
      "(3, 4)\n",
      "(2, 7)\n"
     ]
    },
    {
     "data": {
      "text/plain": [
       "'--->그런데 우리가 원하는 것은 이렇게 커스텀한 함수를 이용하는게 아니라, \\nprint(p1), print(p2) 처럼 바로 함수에 집어넣어서 결과를 보고 싶은거임. 그럼 어떻게 하면 됨? def print_pt(self): 부분을 오버라이드 해서\\ndef __str__(self): 이런 형태로 바꾸고, return 값 쥐어주면 된다.  '"
      ]
     },
     "execution_count": 25,
     "metadata": {},
     "output_type": "execute_result"
    }
   ],
   "source": [
    "#<클래스 생성>\n",
    "class Point:\n",
    "    def __init__(self, x, y):\n",
    "        self.x = x\n",
    "        self.y = y \n",
    "        \n",
    "        \n",
    "    def print_pt(self):\n",
    "        print('({}, {})' .format(self.x, self.y))\n",
    "        \n",
    "#<객체 생성>        \n",
    "p1 = Point(3, 4)\n",
    "p2 = Point(2, 7)\n",
    "\n",
    "p1.print_pt()\n",
    "p2.print_pt() \n",
    "'''--->그런데 우리가 원하는 것은 이렇게 커스텀한 함수를 이용하는게 아니라, \n",
    "print(p1), print(p2) 처럼 바로 함수에 집어넣어서 결과를 보고 싶은거임. 그럼 어떻게 하면 됨? def print_pt(self): 부분을 오버라이드 해서\n",
    "def __str__(self): 이런 형태로 바꾸고, return 값 쥐어주면 된다.  '''"
   ]
  },
  {
   "cell_type": "code",
   "execution_count": 24,
   "metadata": {},
   "outputs": [
    {
     "name": "stdout",
     "output_type": "stream",
     "text": [
      "(3, 4)\n",
      "(2, 7)\n"
     ]
    }
   ],
   "source": [
    "#<클래스 생성>\n",
    "class Point:\n",
    "    def __init__(self, x, y):\n",
    "        self.x = x\n",
    "        self.y = y \n",
    "        \n",
    "        \n",
    "    def __str__(self): #print로 쓰이는 함수의 경우에는 __str__이라고 오버라이딩 하여 출력하고자 하는 문자를 반환시켜 주면 된다.\n",
    "        return '({}, {})' .format(self.x, self.y)\n",
    "        \n",
    "#<객체 생성>        \n",
    "p1 = Point(3, 4)\n",
    "p2 = Point(2, 7)\n",
    "\n",
    "print(p1)\n",
    "print(p2) #p1.print_pt(), p2.print_pt() 이런 함수 디신에 이제 함수 안에다 넣어서 구현"
   ]
  },
  {
   "cell_type": "code",
   "execution_count": 33,
   "metadata": {},
   "outputs": [
    {
     "name": "stdout",
     "output_type": "stream",
     "text": [
      "(3, 4)\n",
      "(2, 7)\n",
      "(5, 11)\n"
     ]
    },
    {
     "data": {
      "text/plain": [
       "'하지만 내가 원하는건 p3 = p1 + p2 이런 형태를 구현하고자 하는거임! 이경우에는 함수를 __add__형태로 구현해줘야함.'"
      ]
     },
     "execution_count": 33,
     "metadata": {},
     "output_type": "execute_result"
    }
   ],
   "source": [
    "#이제 연산하는 함수를 넣어보자. \n",
    "\n",
    "#<클래스 생성>\n",
    "class Point:\n",
    "    def __init__(self, x, y):\n",
    "        self.x = x\n",
    "        self.y = y \n",
    "        \n",
    "    def add(self, pt): #pt는 연산하는데 필요한 새로운 파라미터가 필요하므로....걍 이름 pt라고 해서 파라미터가 하나 더 필요하다고 \n",
    "        #알려줄 뿐이다. \n",
    "        new_x = self.x + pt.x\n",
    "        new_y = self.y + pt.y\n",
    "        return Point(new_x, new_y)\n",
    "\n",
    "        \n",
    "    def __str__(self): #print로 쓰이는 함수의 경우에는 __str__이라고 오버라이딩 하여 출력하고자 하는 문자를 반환시켜 주면 된다.\n",
    "        return '({}, {})' .format(self.x, self.y)\n",
    "        \n",
    "#<객체 생성>        \n",
    "p1 = Point(3, 4)\n",
    "p2 = Point(2, 7)\n",
    "p3 = p1.add(p2)\n",
    "\n",
    "print(p1)\n",
    "print(p2)\n",
    "print(p3)\n",
    "\n",
    "'''하지만 내가 원하는건 p3 = p1 + p2 이런 형태를 구현하고자 하는거임! 이경우에는 함수를 __add__형태로 구현해줘야함.'''"
   ]
  },
  {
   "cell_type": "code",
   "execution_count": null,
   "metadata": {},
   "outputs": [],
   "source": [
    "'''이건 참고용 외부코드임.__init__와 __str__'''\n",
    "\n",
    "class Human( ):\n",
    "    '''인간'''\n",
    "    def __init__( self, name, weight ):\n",
    "        '''초기화 함수'''\n",
    "        self.name = name\n",
    "        self.weight = weight\n",
    "\n",
    "    def __str__( self )\n",
    "        '''문자열화 함수\n",
    "        return \"{} ( 몸무게 {}kg )\".format( self.name, self.weight )\n",
    "\n",
    "person = Human( \"사람\", 60.5 ) # 초기화 함수 사용\n",
    "print( person ) # 문자열화 함수 사용"
   ]
  },
  {
   "cell_type": "code",
   "execution_count": 12,
   "metadata": {},
   "outputs": [
    {
     "name": "stdout",
     "output_type": "stream",
     "text": [
      "25\n",
      "3\n",
      "4\n",
      "(3, 4)\n",
      "(2, 7)\n",
      "(5, 11)\n",
      "(1, -3)\n",
      "(9, 12)\n"
     ]
    }
   ],
   "source": [
    "# Point \n",
    "# 2차원 좌표평면 각 점(x, y) \n",
    "# 연산\n",
    "# 두점 의 덧셈, 뺄셈 (1, 2) + (3, 4) = (4, 6)\n",
    "# 한점과 숫자의 곱셈 (1,  2) * 3 = (3, 6)\n",
    "# 그 점의 길이 (0,0) 부터의 거리\n",
    "# x, y 값 가져오기\n",
    "# 출력하기\n",
    "\n",
    "class Point:\n",
    "    def __init__(self, x, y):\n",
    "        self.x = x\n",
    "        self.y = y \n",
    "        \n",
    "    def __add__(self, pt): #pt는 연산하는데 필요한 새로운 파라미터가 필요하므로....걍 이름 pt라고 해서 파라미터가 하나 더 필요하다고 \n",
    "        #알려줄 뿐이다. \n",
    "        new_x = self.x + pt.x\n",
    "        new_y = self.y + pt.y\n",
    "        return Point(new_x, new_y)\n",
    "    \n",
    "    def __sub__(self, pt):\n",
    "        new_x = self.x - pt.x\n",
    "        new_y = self.y - pt.y\n",
    "        return Point(new_x, new_y)\n",
    "    \n",
    "    def __mul__(self, factor):\n",
    "        return Point(self.x * factor, self.y * factor)\n",
    "    \n",
    "    def __getitem__(self, index):\n",
    "        if index == 0:\n",
    "            return self.x\n",
    "        elif index == 1:\n",
    "            return self.y\n",
    "        else:\n",
    "            return -1\n",
    "    \n",
    "    def __len__(self):\n",
    "        return self.x ** 2 + self.y ** 2\n",
    "        \n",
    "    def __str__(self):\n",
    "        return '({}, {})'.format(self.x, self.y)\n",
    "        \n",
    "p1 = Point(3, 4)\n",
    "p2 = Point(2, 7)\n",
    "\n",
    "a = 1 + 2\n",
    "p3 = p1 + p2\n",
    "p4 = p1 - p2\n",
    "\n",
    "# p5 = p1.multiply(3)\n",
    "p5 = p1 * 3\n",
    "\n",
    "print(len(p1))\n",
    "\n",
    "# p1[0] -> x\n",
    "# p1[1] -> y\n",
    "print(p1[0])\n",
    "print(p1[1])\n",
    "print(p1)\n",
    "print(p2)\n",
    "print(p3)\n",
    "print(p4)\n",
    "print(p5)"
   ]
  },
  {
   "cell_type": "markdown",
   "metadata": {},
   "source": [
    "#### 연습문제)\n",
    " - 복소수 클래스를 정의 해봅시다.\n",
    " - 덧셈, 뺄셈, 곱셈 연산자 지원\n",
    " - 길이 (복소수의 크기) 지원 \n",
    " - 복소수 출력 '1 + 4j'와 같이 표현\n",
    " - 비교 연산 ==, != 지원\n",
    " - >=, <= , <, > 연산 지원\n",
    " - 절대값 지원\n"
   ]
  },
  {
   "cell_type": "code",
   "execution_count": 34,
   "metadata": {},
   "outputs": [
    {
     "data": {
      "text/plain": [
       "5"
      ]
     },
     "execution_count": 34,
     "metadata": {},
     "output_type": "execute_result"
    }
   ],
   "source": [
    "import math\n",
    "class ComplexNumber:\n",
    "    def __init__(self, real, img): #real: 실수부분 img: 허수부분\n",
    "        self.real = real\n",
    "        self.img = img\n",
    "        \n",
    "    def __add__(self, cn):\n",
    "        return ComplexNumber(self.real + cn.real, self.img + cn.img)\n",
    "    \n",
    "    def __sub__(self, cn):\n",
    "        return ComplexNumber(self.real - cn.real, self.img - cn.img)\n",
    "    \n",
    "    def __mul__(self, x):\n",
    "        if type(x) == int:\n",
    "            return ComplexNumber(self.real * x, self.img * x)\n",
    "        elif type(x) == ComplexNumber:\n",
    "            return ComplexNumber(self.real * x.real - self.img * x.img, self.real * x.img + self.img * x.real)\n",
    "#            (a + bj) * (c + dj) = (ac - bd) + (ad + bc)j\n",
    "        \n",
    "    def __str__(self): #출력(print)를 위한 __str__ 매직매소드\n",
    "        if self.img >= 0:\n",
    "            return '{} + {}j'.format(self.real, self.img)\n",
    "        else:\n",
    "            return '{} - {}j'.format(self.real, abs(self.img))\n",
    "        \n",
    "    def __eq__(self, cn):\n",
    "        return self.real == cn.real and self.img == cn.img\n",
    "    \n",
    "    def __ne__(self, cn): #__ne__ = not equal임. \n",
    "        return not (self.real == cn.real and self.img == cn.img)\n",
    "    \n",
    "    def __abs__(self):\n",
    "        return math.sqrt(self.real ** 2 + self.img ** 2)\n",
    "    \n",
    "    def __len__(self):\n",
    "        return self.real ** 2 + self.img ** 2\n",
    "        #__len__ ,lenghth 함수는 정의적으로 int형만 반환시키게 되있으므로, 위처럼 math빼고 사용하거나, \n",
    "        #아니면 int형으로 변환해서 사용해야함. return int(self.real ** 2 + self.img ** 2) 이렇게.\n",
    "a = ComplexNumber(1, 2)\n",
    "b = ComplexNumber(3, 2)\n",
    "\n",
    "abs(a)\n",
    "len(a)"
   ]
  }
 ],
 "metadata": {
  "kernelspec": {
   "display_name": "Python 3",
   "language": "python",
   "name": "python3"
  },
  "language_info": {
   "codemirror_mode": {
    "name": "ipython",
    "version": 3
   },
   "file_extension": ".py",
   "mimetype": "text/x-python",
   "name": "python",
   "nbconvert_exporter": "python",
   "pygments_lexer": "ipython3",
   "version": "3.8.8"
  }
 },
 "nbformat": 4,
 "nbformat_minor": 1
}
