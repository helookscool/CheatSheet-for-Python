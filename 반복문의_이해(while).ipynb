{
  "nbformat": 4,
  "nbformat_minor": 0,
  "metadata": {
    "kernelspec": {
      "display_name": "Python 3",
      "language": "python",
      "name": "python3"
    },
    "language_info": {
      "codemirror_mode": {
        "name": "ipython",
        "version": 3
      },
      "file_extension": ".py",
      "mimetype": "text/x-python",
      "name": "python",
      "nbconvert_exporter": "python",
      "pygments_lexer": "ipython3",
      "version": "3.7.3"
    },
    "colab": {
      "name": "14~15.조건문과 반복문 - 03~04.반복문의 이해(while)_After.ipynb",
      "provenance": [],
      "include_colab_link": true
    }
  },
  "cells": [
    {
      "cell_type": "markdown",
      "metadata": {
        "id": "view-in-github",
        "colab_type": "text"
      },
      "source": [
        "<a href=\"https://colab.research.google.com/github/helookscool/CheatSheet-for-Python/blob/main/%EB%B0%98%EB%B3%B5%EB%AC%B8%EC%9D%98_%EC%9D%B4%ED%95%B4(while).ipynb\" target=\"_parent\"><img src=\"https://colab.research.google.com/assets/colab-badge.svg\" alt=\"Open In Colab\"/></a>"
      ]
    },
    {
      "cell_type": "markdown",
      "metadata": {
        "id": "g82atAnd2mZG"
      },
      "source": [
        "## 학습목표\n",
        " * 반복문의 이해 및 활용 (while)"
      ]
    },
    {
      "cell_type": "markdown",
      "metadata": {
        "id": "Op6qEWhD2mZL"
      },
      "source": [
        "### loop (반복문)\n",
        " + 반복적인 작업을 가능하게 해주는 도구\n",
        " + 특정 조건을 만족하는 경우 수행할 수 있음 (while)\n",
        " + 리스트, 문자열, 튜플 등 컬렉션 타입의 아이템을 하나씩 순회하면서 사용 가능 (for)\n",
        " + 코드 작업에서, 가장 많이 사용하는 구문 중 하나\n",
        " + 주의할점: while을 사용할 경우, 반복을 멈추게 하는 장치가 필요\n",
        "   + 그렇지 않으면 셀이 무한히 수행되며, jupyter notebook의 재부팅이 필요"
      ]
    },
    {
      "cell_type": "markdown",
      "metadata": {
        "id": "KIdkDfcv2mZM"
      },
      "source": [
        "#### while 키워드\n",
        "  - while 뒤의 조건이 True일 경우, while 코드 블록을 계속 수행(while을 '~하는 동안에', 혹은 '~하는 한(as long as)'으로 접속사로 해석하는게 맞다고 봄...)\n",
        "  - while 코드 블록\n",
        "    - if와 마찬가지로 while문 아래의 들여쓰기로 작성 된 부분을 의미\n",
        "  - 조건이 False가 되면 블록 수행을 멈추고 이후 코드를 실행"
      ]
    },
    {
      "cell_type": "markdown",
      "metadata": {
        "id": "XHQrcpry2mZN"
      },
      "source": [
        "#### while 키워드 이용하여 리스트의 아이템 출력하기"
      ]
    },
    {
      "cell_type": "code",
      "metadata": {
        "colab": {
          "base_uri": "https://localhost:8080/"
        },
        "id": "TYp2r4dW2mZO",
        "outputId": "7393ae71-8d9b-49e5-ba95-f92c855075b2"
      },
      "source": [
        "a = [1, 10, 9, 24]\n",
        "\n",
        "i = 0 # while이 인덱스로 작동하므로 0으로부터 시작하도록 인덱스를 준거임\n",
        "while i < len(a):\n",
        "    print('value: ', a[i], ', index: ', i)\n",
        "    i += 1\n",
        "   \n",
        "print('hahah')"
      ],
      "execution_count": 1,
      "outputs": [
        {
          "output_type": "stream",
          "text": [
            "value:  1 , index:  0\n",
            "value:  10 , index:  1\n",
            "value:  9 , index:  2\n",
            "value:  24 , index:  3\n",
            "hahah\n"
          ],
          "name": "stdout"
        }
      ]
    },
    {
      "cell_type": "markdown",
      "metadata": {
        "id": "bMoAM-7H2mZQ"
      },
      "source": [
        "#### while 키워드 이용하여 리스트의 아이템 출력하기\n",
        " - 조건문과 함께 사용하기"
      ]
    },
    {
      "cell_type": "code",
      "metadata": {
        "colab": {
          "base_uri": "https://localhost:8080/"
        },
        "id": "HNjwfUZv2mZR",
        "outputId": "3ffaa3ed-4aad-4f9c-9a5a-bd55895f7a8c"
      },
      "source": [
        "a = [1, 10, 9, 24, 25, 26]\n",
        "\n",
        "i = 0 # 인덱스\n",
        "while i < len(a):\n",
        "    if a[i] > 20: # 20보다 큰 경우만 출력하기\n",
        "        print(a[i])\n",
        "    i += 1\n",
        "   "
      ],
      "execution_count": 2,
      "outputs": [
        {
          "output_type": "stream",
          "text": [
            "24\n",
            "25\n",
            "26\n"
          ],
          "name": "stdout"
        }
      ]
    },
    {
      "cell_type": "code",
      "metadata": {
        "colab": {
          "base_uri": "https://localhost:8080/"
        },
        "id": "Hqm9ltBT2mZS",
        "outputId": "069d2598-9c7a-44f3-aae8-b926366267b7"
      },
      "source": [
        "a = [1, 10, 9, 24, 25, 26]\n",
        "\n",
        "i = 0 # 인덱스\n",
        "while i < len(a):\n",
        "    if a[i] % 2: # 홀수인 경우만 출력하기--> 이거 제대로 쓰면 if a[i]%2==1 인데 어차피 if문은 '0'아니면 true이므로 저렇게만 써도 된다. \n",
        "        print(a[i])\n",
        "    else:\n",
        "        print(a[i] / 2)\n",
        "    i += 1"
      ],
      "execution_count": 3,
      "outputs": [
        {
          "output_type": "stream",
          "text": [
            "1\n",
            "5.0\n",
            "9\n",
            "12.0\n",
            "25\n",
            "13.0\n"
          ],
          "name": "stdout"
        }
      ]
    },
    {
      "cell_type": "markdown",
      "metadata": {
        "id": "RPM7dnCj2mZU"
      },
      "source": [
        "#### 무한루프\n",
        " - while의 경우 종료가 되지 않도록 코드를 작성하면 블록에서 빠져나올 수 없음"
      ]
    },
    {
      "cell_type": "code",
      "metadata": {
        "id": "-_OdhPbL2mZV"
      },
      "source": [
        "#while True:\n",
        "    #print('haha') 이건 실행하면 무한루프임."
      ],
      "execution_count": null,
      "outputs": []
    },
    {
      "cell_type": "markdown",
      "metadata": {
        "id": "Iwjc5EKb2mZW"
      },
      "source": [
        "#### break \n",
        " + loop를 중단할 때 사용\n",
        " + 보통 조건문 안에서 수행되며, 조건을 만족하는 경우 loop를 탈출하기 위해 사용\n",
        " + loop를 중단 하는 경우, while 이후의 코드를 수행"
      ]
    },
    {
      "cell_type": "code",
      "metadata": {
        "colab": {
          "base_uri": "https://localhost:8080/"
        },
        "id": "15st9aZm2mZX",
        "outputId": "5f2a8651-143d-421f-8ca8-b73410a78183"
      },
      "source": [
        "a = [1, 10, 9, 24, 25, 26]\n",
        "\n",
        "i = 0\n",
        "while i < len(a):\n",
        "    if a[i] > 20:\n",
        "        break #--> break조건을 만나면 while문을 빠져나옴. 지금 break는 if구문의 블록코드임. \n",
        "        \n",
        "    print(a[i])\n",
        "    \n",
        "    i += 1\n",
        "    \n",
        "print('hahah')"
      ],
      "execution_count": 4,
      "outputs": [
        {
          "output_type": "stream",
          "text": [
            "1\n",
            "10\n",
            "9\n",
            "hahah\n"
          ],
          "name": "stdout"
        }
      ]
    },
    {
      "cell_type": "markdown",
      "metadata": {
        "id": "Vzn9TOlt2mZZ"
      },
      "source": [
        "#### continue\n",
        " + break 처럼 반복을 중단하진 하여 빠져나오지 않고, 다시 while조건으로 점프함\n",
        " + 특정한 경우에는 코드를 수행하지 않고 다음으로 건너 뛰기 위해 사용"
      ]
    },
    {
      "cell_type": "code",
      "metadata": {
        "colab": {
          "base_uri": "https://localhost:8080/",
          "height": 245
        },
        "id": "t0qFzaRu2mZY",
        "outputId": "52218f49-8ff8-441e-98a6-273c2d4b048a"
      },
      "source": [
        "while True:\n",
        "    data = crawl() #이렇게 중간에 정의 안된 함수 등으로 코드에 오류가 생기면 코드가 멈춰버림. 오류나도 멈추지 않고 계속 진행 하고 싶으면 continue함수로\n",
        "    #코드를 건너뛰고 실행 할 수도 있음.\n",
        "    if data == None:\n",
        "        break\n",
        "    print(data)\n",
        "    "
      ],
      "execution_count": 5,
      "outputs": [
        {
          "output_type": "error",
          "ename": "NameError",
          "evalue": "ignored",
          "traceback": [
            "\u001b[0;31m---------------------------------------------------------------------------\u001b[0m",
            "\u001b[0;31mNameError\u001b[0m                                 Traceback (most recent call last)",
            "\u001b[0;32m<ipython-input-5-af5b082d9716>\u001b[0m in \u001b[0;36m<module>\u001b[0;34m()\u001b[0m\n\u001b[1;32m      1\u001b[0m \u001b[0;32mwhile\u001b[0m \u001b[0;32mTrue\u001b[0m\u001b[0;34m:\u001b[0m\u001b[0;34m\u001b[0m\u001b[0;34m\u001b[0m\u001b[0m\n\u001b[0;32m----> 2\u001b[0;31m     \u001b[0mdata\u001b[0m \u001b[0;34m=\u001b[0m \u001b[0mcrawl\u001b[0m\u001b[0;34m(\u001b[0m\u001b[0;34m)\u001b[0m\u001b[0;34m\u001b[0m\u001b[0;34m\u001b[0m\u001b[0m\n\u001b[0m\u001b[1;32m      3\u001b[0m     \u001b[0;32mif\u001b[0m \u001b[0mdata\u001b[0m \u001b[0;34m==\u001b[0m \u001b[0;32mNone\u001b[0m\u001b[0;34m:\u001b[0m\u001b[0;34m\u001b[0m\u001b[0;34m\u001b[0m\u001b[0m\n\u001b[1;32m      4\u001b[0m         \u001b[0;32mbreak\u001b[0m\u001b[0;34m\u001b[0m\u001b[0;34m\u001b[0m\u001b[0m\n\u001b[1;32m      5\u001b[0m     \u001b[0mprint\u001b[0m\u001b[0;34m(\u001b[0m\u001b[0mdata\u001b[0m\u001b[0;34m)\u001b[0m\u001b[0;34m\u001b[0m\u001b[0;34m\u001b[0m\u001b[0m\n",
            "\u001b[0;31mNameError\u001b[0m: name 'crawl' is not defined"
          ]
        }
      ]
    },
    {
      "cell_type": "code",
      "metadata": {
        "colab": {
          "base_uri": "https://localhost:8080/"
        },
        "id": "YRkWt6oa2mZa",
        "outputId": "1ecbc398-0190-42be-aa8f-7e6f5f44d6f3"
      },
      "source": [
        "a = 7\n",
        "while a > 0:\n",
        "    a -= 1\n",
        "    if a == 5:\n",
        "        continue #사실상 5를 건너 뛴거임. \n",
        "        #특정한 조건인 경우에 수행을 하지말고 넘어가고 싶을 땐 continue를 쓰고, 걍 일정조건이 되면 while을 빠져나가고 싶을땐 break를 쓴다. \n",
        "    print(a)"
      ],
      "execution_count": 7,
      "outputs": [
        {
          "output_type": "stream",
          "text": [
            "6\n",
            "4\n",
            "3\n",
            "2\n",
            "1\n",
            "0\n"
          ],
          "name": "stdout"
        }
      ]
    },
    {
      "cell_type": "markdown",
      "metadata": {
        "id": "EBXV4W8S2mZb"
      },
      "source": [
        "### 1 - 10까지 더하기"
      ]
    },
    {
      "cell_type": "code",
      "metadata": {
        "colab": {
          "base_uri": "https://localhost:8080/"
        },
        "id": "IP2Bs0GV2mZb",
        "outputId": "c7cfdcae-db06-48dc-b4f0-74a152b2c6fa"
      },
      "source": [
        "num = 1\n",
        "_sum = 0\n",
        "\n",
        "while num <= 10:\n",
        "    _sum += num #--> _sum=_sum+num\n",
        "    num += 1 #num=num+1\n",
        "    print(_sum, num)\n",
        "    \n",
        "print(_sum)"
      ],
      "execution_count": 10,
      "outputs": [
        {
          "output_type": "stream",
          "text": [
            "1 2\n",
            "3 3\n",
            "6 4\n",
            "10 5\n",
            "15 6\n",
            "21 7\n",
            "28 8\n",
            "36 9\n",
            "45 10\n",
            "55 11\n",
            "55\n"
          ],
          "name": "stdout"
        }
      ]
    }
  ]
}