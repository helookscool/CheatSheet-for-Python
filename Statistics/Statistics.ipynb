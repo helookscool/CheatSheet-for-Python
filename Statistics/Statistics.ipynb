{
  "nbformat": 4,
  "nbformat_minor": 0,
  "metadata": {
    "colab": {
      "name": "Statistics.ipynb",
      "provenance": []
    },
    "kernelspec": {
      "name": "python3",
      "display_name": "Python 3"
    },
    "language_info": {
      "name": "python"
    }
  },
  "cells": [
    {
      "cell_type": "markdown",
      "metadata": {
        "id": "Rk3afbgym91l"
      },
      "source": [
        "## T-test\n",
        "T-test란 '두 집단 간' 평균의 차이에대한 점겅방법으로, 모집단의 평균 등과 같이 실제정보를 모를떄 현제의 데이터만으로 두 집단의 차이에 대해 검정할 수 있는 방법입니다, 단, T-test는 검정대상인 두 집단의 데이터 계수가 비슷하면서 두 데이터가 정규분포를 보이는 경우에 신뢰도가 높은 검정 방식입니다.\n",
        "\n",
        "파이썬에서는 scipy를 통해 두 집단간의 T-test를 검정할 수 있습니다. \n",
        "ttest_ind()함수에 두집단의 시리즈 데이터를 넣는 것으로 검정의 결과를 확인할 수 있는데, 이 함수의 파라미터인 equal_var는 T-test의 두가지 방법중에 하나를 선택하는 것입니다. \n",
        "\n",
        "첫번째는 두 집단의 분산이 같은 경우, 그리고 두번째는 두 집단의 분산이 같지 않은 경우를 가정한 것입니다. "
      ]
    },
    {
      "cell_type": "code",
      "metadata": {
        "id": "Ac9SjCE6l_3D",
        "outputId": "21810791-717d-484f-cfbc-84d128a025d8"
      },
      "source": [
        "# 아프리카와 유럽간의 맥주 소비량 차이를 검정합니다.\n",
        "africa = drinks.loc[drinks['continent']=='AF']\n",
        "europe = drinks.loc[drinks['continent']=='EU']\n",
        "\n",
        "from scipy import stats\n",
        "tTestResult = stats.ttest_ind(africa['beer_servings'], europe['beer_servings'])\n",
        "tTestResultDiffVar = stats.ttest_ind(africa['beer_servings'], europe['beer_servings'], equal_var=False)\n",
        "\n",
        "print(\"The t-statistic and p-value assuming equal variances is %.3f and %.3f.\" % tTestResult)\n",
        "print(\"The t-statistic and p-value not assuming equal variances is %.3f and %.3f\" % tTestResultDiffVar)"
      ],
      "execution_count": null,
      "outputs": [
        {
          "output_type": "stream",
          "text": [
            "The t-statistic and p-value assuming equal variances is -7.268 and 0.000.\n",
            "The t-statistic and p-value not assuming equal variances is -7.144 and 0.000\n"
          ],
          "name": "stdout"
        }
      ]
    },
    {
      "cell_type": "markdown",
      "metadata": {
        "id": "Ho7dl7U84GWn"
      },
      "source": [
        "실행결과에 등장하는 t-statistic은 t-tset의 검정 통계량을 의미하는 것으로, 함께 출력되는 p-value와 연관지어 해석해야 합니다. "
      ]
    }
  ]
}