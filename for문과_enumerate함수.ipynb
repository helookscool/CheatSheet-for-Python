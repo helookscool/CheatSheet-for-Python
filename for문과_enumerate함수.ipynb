{
  "nbformat": 4,
  "nbformat_minor": 0,
  "metadata": {
    "colab": {
      "name": "for문과 enumerate함수",
      "provenance": [],
      "authorship_tag": "ABX9TyOIgcuTMN/w6oAoHWgOipAW",
      "include_colab_link": true
    },
    "kernelspec": {
      "name": "python3",
      "display_name": "Python 3"
    },
    "language_info": {
      "name": "python"
    }
  },
  "cells": [
    {
      "cell_type": "markdown",
      "metadata": {
        "id": "view-in-github",
        "colab_type": "text"
      },
      "source": [
        "<a href=\"https://colab.research.google.com/github/helookscool/Daily_Tiny_Practice/blob/main/for%EB%AC%B8%EA%B3%BC_enumerate%ED%95%A8%EC%88%98.ipynb\" target=\"_parent\"><img src=\"https://colab.research.google.com/assets/colab-badge.svg\" alt=\"Open In Colab\"/></a>"
      ]
    },
    {
      "cell_type": "markdown",
      "metadata": {
        "id": "bGL07l7lR4ub"
      },
      "source": [
        "# [파이썬] enumerate 내장 함수로 for 루프 돌리기\n",
        "\n",
        "많은 프로그래밍 언어들이 i, j, k와 같은 소위 인덱스(index) 변수를 증가시키면서 for 루프를 돌리니다.. 하지만 파이썬에서는 enumerate()라는 내장 함수를 이용하여 인덱스 변수 없이 for문을 돌릴수 있습니다."
      ]
    },
    {
      "cell_type": "markdown",
      "metadata": {
        "id": "U34Snk4YSfEz"
      },
      "source": [
        "# 우선 기본적으로 for문 loop를 돌려보자.\n",
        "파이썬에서는 for 루프는 기본적으로 for <원소> in <목록>: 형태로 작성이 되는데요. 여기서 <목록> 부분에는 리스트(list), 터플(tuple), 문자열(string), 반복자(iterator), 제너레이터(generator) 등 순회가 가능한 왠만한 모든 데이터 타입을 사용할 수 있습니다. <원소> 부분은 흔히 순회 변수(loop variable)라고 하는데, <목록> 부분에 넘긴 객체가 담고 있는 원소들이 루프가 도는 동안 하나씩 차례로 할당됩니다.\n",
        "\n",
        "\n",
        "예를 들어, 3개의 글자를 담고 있는 리스트를 대상으로 루프를 돌면서 각 글자를 출력하는 코드를 for 문으로 작성해보겠습니다."
      ]
    },
    {
      "cell_type": "code",
      "metadata": {
        "colab": {
          "base_uri": "https://localhost:8080/"
        },
        "id": "us17PZzrRu5U",
        "outputId": "5b15612f-e46e-4d6e-dcac-b4fe82843067"
      },
      "source": [
        "for letter in ['A', 'B', 'C']:\n",
        "  print(letter)"
      ],
      "execution_count": 2,
      "outputs": [
        {
          "output_type": "stream",
          "text": [
            "A\n",
            "B\n",
            "C\n"
          ],
          "name": "stdout"
        }
      ]
    },
    {
      "cell_type": "markdown",
      "metadata": {
        "id": "BXCfcbqbTaIM"
      },
      "source": [
        "여기서 원소 뿐만 아니라 인덱스(index)도 함께 출력하고 싶을 때는 어떻게 해야할까요? \n",
        "\n",
        "# <첫번째 방법>"
      ]
    },
    {
      "cell_type": "code",
      "metadata": {
        "colab": {
          "base_uri": "https://localhost:8080/"
        },
        "id": "YW7LWZ9PTnn3",
        "outputId": "8c66ac66-930a-44d8-9c65-c0c1701c4b2c"
      },
      "source": [
        "i = 0\n",
        "for letter in ['A', 'B', 'C']:\n",
        "    print(i, letter)\n",
        "    i += 1"
      ],
      "execution_count": 3,
      "outputs": [
        {
          "output_type": "stream",
          "text": [
            "0 A\n",
            "1 B\n",
            "2 C\n"
          ],
          "name": "stdout"
        }
      ]
    },
    {
      "cell_type": "markdown",
      "metadata": {
        "id": "6s6uERvKTzbZ"
      },
      "source": [
        "이 방법이 틀린 것은 아니지만, i 변수가 for 반복문이 종료된 이 후에도 네임 스페이스에 남아있기 때문에 이상적이지는 않습니다.\n",
        "\n",
        "또 다른 방법으로는 range()와 len() 내장 함수를 이용하여 만든 인덱스 목록을 대상으로 루프를 돌리는 것입니다.\n",
        "\n",
        "# <두번째 방법> range()와 len()"
      ]
    },
    {
      "cell_type": "code",
      "metadata": {
        "colab": {
          "base_uri": "https://localhost:8080/"
        },
        "id": "p4SetD4AUDcb",
        "outputId": "67f128af-a029-4d96-f0d1-5626851911b3"
      },
      "source": [
        "letters = ['A', 'B', 'C']\n",
        "for i in range(len(letters)):\n",
        "    letter = letters[i]\n",
        "    print(i, letter)\n"
      ],
      "execution_count": 5,
      "outputs": [
        {
          "output_type": "stream",
          "text": [
            "0 A\n",
            "1 B\n",
            "2 C\n"
          ],
          "name": "stdout"
        }
      ]
    },
    {
      "cell_type": "markdown",
      "metadata": {
        "id": "VeFCBag8UVy4"
      },
      "source": [
        "이 방법은 이전 방법보다는 나아보이지만, 파이썬 커뮤니티에서는 이러한 코드를 소위 파이썬 답지(Pythonic) 않아 보인다고 합니다.\n",
        "\n",
        "그럼 어떻게 해야 좀 더 파이썬답게 인덱스(index)와 원소를 동시에 접근하면서 루프를 돌릴 수가 있을까요? 🐍\n",
        "\n",
        "바로 파이썬의 내장 함수인 enumerate()를 이용하면 되는데요. for 문의 in 뒷 부분을 enumerate() 함수로 한 번 감싸주기만 하면 됩니다.\n",
        "\n",
        "# <세번째 방법> enumerate()"
      ]
    },
    {
      "cell_type": "code",
      "metadata": {
        "colab": {
          "base_uri": "https://localhost:8080/"
        },
        "id": "lNtCnpa-VEBZ",
        "outputId": "093a199c-1bdc-42a0-c3af-d86da92c2689"
      },
      "source": [
        "for entry in enumerate(['A', 'B', 'C']):\n",
        "    print(entry)"
      ],
      "execution_count": 6,
      "outputs": [
        {
          "output_type": "stream",
          "text": [
            "(0, 'A')\n",
            "(1, 'B')\n",
            "(2, 'C')\n"
          ],
          "name": "stdout"
        }
      ]
    },
    {
      "cell_type": "markdown",
      "metadata": {
        "id": "AybboGIHVTox"
      },
      "source": [
        "enumerate() 함수는 기본적으로 인덱스와 원소로 이루어진 터플(tuple)을 만들어줍니다. 따라서 인덱스와 원소를 각각 다른 변수에 할당하고 싶다면 '인자풀기(unpacking)'를 해줘야 합니다."
      ]
    },
    {
      "cell_type": "code",
      "metadata": {
        "colab": {
          "base_uri": "https://localhost:8080/"
        },
        "id": "I0UMRpJOVx38",
        "outputId": "933d0b3a-d6e6-4673-e3ab-1f9b3e6a3b3f"
      },
      "source": [
        "for i, letter in enumerate(['A', 'B', 'C']):\n",
        "    print(i, letter)\n",
        "    #for문에 인자를 i, letter 두개를 넣으면 알아서 튜플 형태에서 언팩킹 해주는듯."
      ],
      "execution_count": 7,
      "outputs": [
        {
          "output_type": "stream",
          "text": [
            "0 A\n",
            "1 B\n",
            "2 C\n"
          ],
          "name": "stdout"
        }
      ]
    },
    {
      "cell_type": "markdown",
      "metadata": {
        "id": "Rm3P5g4CWU_A"
      },
      "source": [
        "# 시작 인덱스 바꾸기\n",
        "루프를 돌리다보면 인덱스를 0이 아니라, 1로 시작하고 싶을 때가 있습니다. \n",
        "\n",
        "이럴 때는 enumerate() 함수를 호출할 때 start 인자에 시작하고 싶은 숫자를 넘기면 됩니다."
      ]
    },
    {
      "cell_type": "code",
      "metadata": {
        "colab": {
          "base_uri": "https://localhost:8080/"
        },
        "id": "MnxocXksWcim",
        "outputId": "b99ab348-2420-4066-db3a-ef1e34b0f3b2"
      },
      "source": [
        "for i, letter in enumerate(['A', 'B', 'C'], start=1):\n",
        "    print(i, letter)"
      ],
      "execution_count": 8,
      "outputs": [
        {
          "output_type": "stream",
          "text": [
            "1 A\n",
            "2 B\n",
            "3 C\n"
          ],
          "name": "stdout"
        }
      ]
    },
    {
      "cell_type": "markdown",
      "metadata": {
        "id": "1s1fcwvTWzhK"
      },
      "source": [
        "#enumerate 원리\n",
        "지금까지 for 문에서 enumerate() 함수를 사용하는 방법에 대해서 알아봤는데요. enumerate() 함수 자체가 어떻게 작동하는지 좀 더 살펴보겠습니다.\n",
        "\n",
        "파이썬에서 for 문은 내부적으로 in 뒤에 오는 목록을 대상으로 계속해서 next() 함수를 호출하고 있다고 생각할 수 있습니다. 따라서, 일반 리스트를 iter() 함수에 넘겨 반복자(iterator)로 만든 후 next() 함수를 호출해보면 원소들이 차례로 얻어지는 것을 알 수 있습니다."
      ]
    },
    {
      "cell_type": "code",
      "metadata": {
        "colab": {
          "base_uri": "https://localhost:8080/"
        },
        "id": "U2dmp9XuXC_v",
        "outputId": "84eba170-afa1-4b1e-83ec-40c87597889d"
      },
      "source": [
        "iter_letters = iter(['A', 'B', 'C'])\n",
        "\n",
        "print(next(iter_letters))\n",
        "\n",
        "print(next(iter_letters))\n",
        "\n",
        "print(next(iter_letters))\n"
      ],
      "execution_count": 11,
      "outputs": [
        {
          "output_type": "stream",
          "text": [
            "A\n",
            "B\n",
            "C\n"
          ],
          "name": "stdout"
        }
      ]
    },
    {
      "cell_type": "markdown",
      "metadata": {
        "id": "Dim9-YH-YijO"
      },
      "source": [
        "이 번에는 enumerate() 함수를 호출한 결과를 대상으로 next() 함수를 계속해서 호출해보면, 인덱스와 원소의 쌍이 터플(tuple)의 형태로 차례로 얻어지는 것을 알 수 있습니다."
      ]
    },
    {
      "cell_type": "code",
      "metadata": {
        "colab": {
          "base_uri": "https://localhost:8080/"
        },
        "id": "BSCSegZKYnPc",
        "outputId": "8978cb4c-8948-4bae-def2-27a69a6e6809"
      },
      "source": [
        "enumerate_letters = enumerate(['A', 'B', 'C'])\n",
        "print(next(enumerate_letters))\n",
        "\n",
        "print(next(enumerate_letters))\n",
        "\n",
        "print(next(enumerate_letters))\n"
      ],
      "execution_count": 12,
      "outputs": [
        {
          "output_type": "stream",
          "text": [
            "(0, 'A')\n",
            "(1, 'B')\n",
            "(2, 'C')\n"
          ],
          "name": "stdout"
        }
      ]
    },
    {
      "cell_type": "markdown",
      "metadata": {
        "id": "RLvZRVjHZL3t"
      },
      "source": [
        "결국, enumerate() 함수는 인자로 넘어온 목록을 기준으로 인덱스와 원소를 차례대로 접근하게 해주는 반복자(iterator) 객체를 반환해주는 함수입니다. 이 부분은 enumerate() 함수의 반환 값을 리스트로 변환해보면 좀 더 명확하게 확인할 수 있습니다."
      ]
    },
    {
      "cell_type": "code",
      "metadata": {
        "colab": {
          "base_uri": "https://localhost:8080/"
        },
        "id": "hQzZEeBYZOQ-",
        "outputId": "a1a65bec-b3b1-4989-cc65-8236ea4fb6a2"
      },
      "source": [
        " list(enumerate(['A', 'B', 'C']))"
      ],
      "execution_count": 13,
      "outputs": [
        {
          "output_type": "execute_result",
          "data": {
            "text/plain": [
              "[(0, 'A'), (1, 'B'), (2, 'C')]"
            ]
          },
          "metadata": {
            "tags": []
          },
          "execution_count": 13
        }
      ]
    },
    {
      "cell_type": "markdown",
      "metadata": {
        "id": "Uxpc-zDGZW6o"
      },
      "source": [
        "마치면서\n",
        "이상으로 파이썬에 내장된 enumerate() 함수를 이용하여 for 루프를 돌릴 때, 인덱스와 원소를 동시에 얻는 방법에 대해서 알아보았습니다. enumerate() 함수를 잘 활용하셔서 좀 더 Pythonic한 코드를 작성하실 수 있으셨으면 좋겠습니다.\n",
        "\n",
        "https://www.daleseo.com/python-enumerate/ 의 포스팅 내용을 거의 그대로 가져와 연습한 글입니다."
      ]
    }
  ]
}