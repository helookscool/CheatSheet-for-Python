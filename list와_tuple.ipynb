{
  "nbformat": 4,
  "nbformat_minor": 0,
  "metadata": {
    "kernelspec": {
      "display_name": "Python 3",
      "language": "python",
      "name": "python3"
    },
    "language_info": {
      "codemirror_mode": {
        "name": "ipython",
        "version": 3
      },
      "file_extension": ".py",
      "mimetype": "text/x-python",
      "name": "python",
      "nbconvert_exporter": "python",
      "pygments_lexer": "ipython3",
      "version": "3.7.3"
    },
    "colab": {
      "name": "list와 tuple",
      "provenance": [],
      "include_colab_link": true
    }
  },
  "cells": [
    {
      "cell_type": "markdown",
      "metadata": {
        "id": "view-in-github",
        "colab_type": "text"
      },
      "source": [
        "<a href=\"https://colab.research.google.com/github/helookscool/CheatSheet-for-Python/blob/main/list%EC%99%80_tuple.ipynb\" target=\"_parent\"><img src=\"https://colab.research.google.com/assets/colab-badge.svg\" alt=\"Open In Colab\"/></a>"
      ]
    },
    {
      "cell_type": "markdown",
      "metadata": {
        "id": "fpU92NusBn9H"
      },
      "source": [
        "## 학습목표\n",
        " 1. list, tuple에 대해 이해 및 실습\n"
      ]
    },
    {
      "cell_type": "markdown",
      "metadata": {
        "id": "U1TLYC9_Bn9O"
      },
      "source": [
        "### **리스트 & 튜플**\n",
        " * 복수개의 값을 담을 수 있는 데이터 구조\n",
        " * 실생활에서 사용하는 리스트(학생 리스트, 성적 리스트 등등)과 동일한 의미로 이해\n",
        " * list - mutable    (생성된 후에 변경 가능)  \n",
        " * tuple - immutable (생성된 후에 변경 불가능)  "
      ]
    },
    {
      "cell_type": "markdown",
      "metadata": {
        "id": "J_U-SL_WBn9Q"
      },
      "source": [
        "#### **리스트 초기화**\n",
        " - [  ] 안에 값을 담아서 생성--> 리스트는 대괄호 쓴다고.\n",
        " - list() 함수로 생성\n",
        " - str.split()함수로 생성"
      ]
    },
    {
      "cell_type": "code",
      "metadata": {
        "id": "BNiOTBKRBn9R",
        "colab": {
          "base_uri": "https://localhost:8080/"
        },
        "outputId": "d1d8e52e-821b-40eb-92f1-bc9f533eb20d"
      },
      "source": [
        "a = []\n",
        "print(a)"
      ],
      "execution_count": 1,
      "outputs": [
        {
          "output_type": "stream",
          "text": [
            "[]\n"
          ],
          "name": "stdout"
        }
      ]
    },
    {
      "cell_type": "code",
      "metadata": {
        "id": "dvlrWvq-Bn9S",
        "colab": {
          "base_uri": "https://localhost:8080/"
        },
        "outputId": "f69b9aa6-22f2-4d13-c026-cea2cd429a14"
      },
      "source": [
        "a = [1, 2, 3, 5, 10]\n",
        "print(a)"
      ],
      "execution_count": 2,
      "outputs": [
        {
          "output_type": "stream",
          "text": [
            "[1, 2, 3, 5, 10]\n"
          ],
          "name": "stdout"
        }
      ]
    },
    {
      "cell_type": "code",
      "metadata": {
        "id": "byabiiSNBn9T",
        "colab": {
          "base_uri": "https://localhost:8080/"
        },
        "outputId": "82bbf07f-f58e-488f-c4ed-ca450f258bca"
      },
      "source": [
        "a = ['korea', 'canada', 1, 23, [34, 56]] #문자열은 따옴표로 표현한다는 사실을 잊지말긔! 따옴표 없이 korea라고 쓰면 이건 변수임!\n",
        "print(a)"
      ],
      "execution_count": 3,
      "outputs": [
        {
          "output_type": "stream",
          "text": [
            "['korea', 'canada', 1, 23, [34, 56]]\n"
          ],
          "name": "stdout"
        }
      ]
    },
    {
      "cell_type": "markdown",
      "metadata": {
        "id": "RN7WI5dKBn9V"
      },
      "source": [
        "* **list() 함수**\n",
        " + 다른 데이터 타입을 리스트로 변환할 때도 사용"
      ]
    },
    {
      "cell_type": "code",
      "metadata": {
        "id": "4g8dxm28Bn9W",
        "colab": {
          "base_uri": "https://localhost:8080/"
        },
        "outputId": "706bd0bf-38f6-4b32-f893-faf3c1ed8d06"
      },
      "source": [
        "a = 'hello world'\n",
        "b = list(a)\n",
        "print(b)#--> 문자열의 각 문자를 원소로 한 리스트 생성\n",
        "\n",
        "c = (1, 2, 3)\n",
        "d = list(c)\n",
        "\n",
        "print(d)"
      ],
      "execution_count": 4,
      "outputs": [
        {
          "output_type": "stream",
          "text": [
            "['h', 'e', 'l', 'l', 'o', ' ', 'w', 'o', 'r', 'l', 'd']\n",
            "[1, 2, 3]\n"
          ],
          "name": "stdout"
        }
      ]
    },
    {
      "cell_type": "markdown",
      "metadata": {
        "id": "lzXoOupuBn9X"
      },
      "source": [
        "+ **string split 함수**\n",
        " * 구분자로 구분되는 리스트를 반환 (빈번히 사용 됨)"
      ]
    },
    {
      "cell_type": "code",
      "metadata": {
        "id": "TsTeuANHBn9X",
        "colab": {
          "base_uri": "https://localhost:8080/"
        },
        "outputId": "b35605a3-eac8-4e6d-f05c-2403b1a4bd6e"
      },
      "source": [
        "a = 'hello world nice weather'\n",
        "b = a.split() # 스페이스바 를 기준으로 문자열을 구분해서 리스트로 만들어라. 이런뜻.\n",
        "\n",
        "print(b)"
      ],
      "execution_count": 5,
      "outputs": [
        {
          "output_type": "stream",
          "text": [
            "['hello', 'world', 'nice', 'weather']\n"
          ],
          "name": "stdout"
        }
      ]
    },
    {
      "cell_type": "markdown",
      "metadata": {
        "id": "65IfknEIBn9Y"
      },
      "source": [
        "#### **리스트 indexing**\n",
        " * 문자열의 인덱싱과 동일하게 동작\n",
        " * [   ] 연산자를 이용하여 항목 얻어오기\n",
        " * [i] - i번째 원소를 반환\n",
        " * i가 음수인 경우도 가능하며 마지막원소가 -1로 하여 앞으로 갈때마다 1씩 감소함"
      ]
    },
    {
      "cell_type": "code",
      "metadata": {
        "id": "SrRvnYcbBn9Z",
        "colab": {
          "base_uri": "https://localhost:8080/"
        },
        "outputId": "a5d5318f-ac6f-4f82-b164-7f6249c5c3a4"
      },
      "source": [
        "a = [1, 2, 3, 4, 5, 6]\n",
        "print(a[2])\n",
        "print(a[5])\n",
        "print(a[-1])"
      ],
      "execution_count": 6,
      "outputs": [
        {
          "output_type": "stream",
          "text": [
            "3\n",
            "6\n",
            "6\n"
          ],
          "name": "stdout"
        }
      ]
    },
    {
      "cell_type": "markdown",
      "metadata": {
        "id": "Bzm_KA5fBn9a"
      },
      "source": [
        "#### **리스트 개별 아이템에 접근**\n",
        " - 인덱스에 접근하여 값을 업데이트 가능\n",
        " - String은 직접 못바꿈(불변(immutable)개체임).고로 다른 수단을 거쳐서 바꿔야됨.\n",
        " - 숫자형 타입(정수형, 실수형)을 직접 바꿀 수 있다!"
      ]
    },
    {
      "cell_type": "code",
      "metadata": {
        "id": "hv5jNQFPBn9a",
        "colab": {
          "base_uri": "https://localhost:8080/"
        },
        "outputId": "a1c49284-9f30-485d-9906-e48ef0de40b3"
      },
      "source": [
        "# 불변(immutable)\n",
        "a = 'hello world'\n",
        "print(a[0])\n",
        "# 위의 글자 'h'를 'j'로 바꾸고 싶다고  a[0]='j' 이렇게 지정한다고 해서 h가 j로 변하지 않음. \n",
        "# 문자열은 불변(immutable)개체이기 때문에 바꾸고 싶으면 아에 다시 쓰거나, 변수c 처럼 j쓰고 1번째 문자열부터 덪붙혀 써야됨. 또는 replace함수 쓰거나.\n",
        "b = 'jello world'\n",
        "c = 'j' + a[1:]\n",
        "\n",
        "d = a.replace('h', 'j')\n",
        "print(d)\n",
        "print(a)\n",
        "print(c)"
      ],
      "execution_count": 8,
      "outputs": [
        {
          "output_type": "stream",
          "text": [
            "h\n",
            "jello world\n",
            "hello world\n",
            "jello world\n"
          ],
          "name": "stdout"
        }
      ]
    },
    {
      "cell_type": "code",
      "metadata": {
        "id": "W48UNcMgBn9b",
        "colab": {
          "base_uri": "https://localhost:8080/"
        },
        "outputId": "faba8ceb-299a-4477-d4cb-f7fe987f6a4d"
      },
      "source": [
        "a = [1, 2, 3, 4, 5]\n",
        "a[0] = 100 #0번째 인덱스를 100으로 바꾸겠다. \n",
        "a[-1] = 90 #맨 끝의 인덱스를 90으로 바꾸겠다. \n",
        "\n",
        "print(a)"
      ],
      "execution_count": 9,
      "outputs": [
        {
          "output_type": "stream",
          "text": [
            "[100, 2, 3, 4, 90]\n"
          ],
          "name": "stdout"
        }
      ]
    },
    {
      "cell_type": "markdown",
      "metadata": {
        "id": "hzPu-af8Bn9b"
      },
      "source": [
        "#### **리스트 slicing**\n",
        " - 문자열 슬라이싱과 동일하게 동작\n",
        " - 슬라이싱의 결과 역시 list!"
      ]
    },
    {
      "cell_type": "code",
      "metadata": {
        "id": "a_fRg0vQBn9b",
        "colab": {
          "base_uri": "https://localhost:8080/"
        },
        "outputId": "a38d9408-665a-42d1-ff09-9fba29bec49e"
      },
      "source": [
        "a = [1, 2, 3, 4, 5, 6, 7, 8]\n",
        "print(a[4:7]) #걍 print()없이 a[4:7]해도 [5,6,7]나옴. \n",
        "print(a[:7])\n",
        "print(a[3:])\n",
        "print(a[:])\n",
        "\n",
        "# slicing \n",
        "# start:end:increment(1) \n",
        "#increment()는 건너뛰는 숫자의 크기를 말함. 기본값은 '1'이고, 만약 a[1:7:2]이면 [2,4,6]이 출력됨\n",
        "\n",
        "a[1:7]"
      ],
      "execution_count": 10,
      "outputs": [
        {
          "output_type": "stream",
          "text": [
            "[5, 6, 7]\n",
            "[1, 2, 3, 4, 5, 6, 7]\n",
            "[4, 5, 6, 7, 8]\n",
            "[1, 2, 3, 4, 5, 6, 7, 8]\n"
          ],
          "name": "stdout"
        },
        {
          "output_type": "execute_result",
          "data": {
            "text/plain": [
              "[2, 3, 4, 5, 6, 7]"
            ]
          },
          "metadata": {
            "tags": []
          },
          "execution_count": 10
        }
      ]
    },
    {
      "cell_type": "markdown",
      "metadata": {
        "id": "lq2mTeyqBn9c"
      },
      "source": [
        "### list 멤버 함수\n",
        " - 생성된 리스트 객체에 동작하는 함수\n",
        " - 향후, 클래스와 멤버 함수 개념을 이해할 예정"
      ]
    },
    {
      "cell_type": "markdown",
      "metadata": {
        "id": "rkRzgZjIBn9c"
      },
      "source": [
        "* **append()**\n",
        " + 리스트의 끝에 항목을 추가함"
      ]
    },
    {
      "cell_type": "code",
      "metadata": {
        "id": "hcTdEnLUBn9c",
        "colab": {
          "base_uri": "https://localhost:8080/"
        },
        "outputId": "bee8f23e-dc42-4b6b-94bf-34fa8088ef53"
      },
      "source": [
        "a = [1, 2, 3, 4, 5]\n",
        "a.append(10)\n",
        "\n",
        "print(a)"
      ],
      "execution_count": 11,
      "outputs": [
        {
          "output_type": "stream",
          "text": [
            "[1, 2, 3, 4, 5, 10]\n"
          ],
          "name": "stdout"
        }
      ]
    },
    {
      "cell_type": "markdown",
      "metadata": {
        "id": "Lm2PJKVGBn9c"
      },
      "source": [
        "+ **extend()**\n",
        " * 리스트를 연장\n",
        " * += 로도 가능함"
      ]
    },
    {
      "cell_type": "code",
      "metadata": {
        "id": "JgBJiyU3Bn9d",
        "colab": {
          "base_uri": "https://localhost:8080/"
        },
        "outputId": "5cf6b05f-bd45-4e05-dfd8-58c51bc2cfdd"
      },
      "source": [
        "a = [1, 2, 3, 4, 5]\n",
        "b = [6, 7, 8, 9, 10]\n",
        "\n",
        "# [1, 2, 3, 4, 5, 6, 7, 8, 9, 10] 의 꼴을 만들고 싶은데, 여기서 append()함수로 추가해서 쓰면 \n",
        "#[1, 2, 3, 4, 5, [6, 7, 8, 9, 10]] 이런 형태로만 추가됨. 이럴땐 extend()함수 써야되는 거임.\n",
        "\n",
        "# a.extend(b)를 아래의 형태으로도 표현 가능\n",
        "a += b \n",
        "print(a)"
      ],
      "execution_count": 13,
      "outputs": [
        {
          "output_type": "stream",
          "text": [
            "[1, 2, 3, 4, 5, 6, 7, 8, 9, 10]\n"
          ],
          "name": "stdout"
        }
      ]
    },
    {
      "cell_type": "markdown",
      "metadata": {
        "id": "6o_8BxghBn9d"
      },
      "source": [
        "+ **insert()로 항목추가**\n",
        " * 리스트의 원하는 위치에 추가 가능\n",
        " * append함수는 맨 마지막에만 추가가 가능! 중간에 삽입을 하려면 insert함수를 쓴다.\n",
        " * 앞에 인덱스를, 뒤에 아이템을 명시"
      ]
    },
    {
      "cell_type": "code",
      "metadata": {
        "id": "1gohXIwLBn9d",
        "colab": {
          "base_uri": "https://localhost:8080/"
        },
        "outputId": "0991d058-bab8-4bae-f405-ab6322d8daa9"
      },
      "source": [
        "a = [1, 3, 4, 5, 6]\n",
        "a.insert(1, 40) #1번 인덱스 옆에 40을 추가하고 싶다.\n",
        "\n",
        "print(a)"
      ],
      "execution_count": 15,
      "outputs": [
        {
          "output_type": "stream",
          "text": [
            "[1, 40, 3, 4, 5, 6]\n"
          ],
          "name": "stdout"
        }
      ]
    },
    {
      "cell_type": "markdown",
      "metadata": {
        "id": "ZztpDbdlBn9d"
      },
      "source": [
        "+ **remove()**\n",
        " * 값으로 항목 삭제"
      ]
    },
    {
      "cell_type": "code",
      "metadata": {
        "id": "VA_MOs-ZBn9e",
        "colab": {
          "base_uri": "https://localhost:8080/"
        },
        "outputId": "547647a6-8c56-45ca-83a3-199190669b5d"
      },
      "source": [
        "a = [1, 2, 30, 30, 4, 5]\n",
        "a.remove(2) #remove함수는 value값을 지움. 지정한 숫자가 인덱스가 아님!\n",
        "print(a)"
      ],
      "execution_count": 18,
      "outputs": [
        {
          "output_type": "stream",
          "text": [
            "[1, 30, 30, 4, 5]\n"
          ],
          "name": "stdout"
        }
      ]
    },
    {
      "cell_type": "markdown",
      "metadata": {
        "id": "OrqA-hdDBn9e"
      },
      "source": [
        "+ **pop()**\n",
        "  - 지우고자 하는 아이템을 반환 후, 삭제\n",
        "  -얘도 기본적으로 삭제인데, remove는 괄호 안의 value값을 직접 쓰는 형태였으나, pop은 인덱스를 씀. "
      ]
    },
    {
      "cell_type": "code",
      "metadata": {
        "id": "To6YmFXLBn9e",
        "colab": {
          "base_uri": "https://localhost:8080/"
        },
        "outputId": "9c0ca45b-02e6-4ba6-cfe2-4961fba9a30b"
      },
      "source": [
        "a = [1, 2, 3, 4, 5]\n",
        "d = a.pop(2) #pop으로 a에서 빼낸다음 d로 값을 줘서 따로 출력 가능함.\n",
        "#a.pop() 이렇게 공백으로 남기면 가장 마지막 인덱스가 지워짐\n",
        "print(a)\n",
        "print(d)"
      ],
      "execution_count": 19,
      "outputs": [
        {
          "output_type": "stream",
          "text": [
            "[1, 2, 4, 5]\n",
            "3\n"
          ],
          "name": "stdout"
        }
      ]
    },
    {
      "cell_type": "markdown",
      "metadata": {
        "id": "7p-OpSyxBn9e"
      },
      "source": [
        "+ **index()**\n",
        " * 찾고자 하는 값의 인덱스 반환"
      ]
    },
    {
      "cell_type": "code",
      "metadata": {
        "id": "evksKfuUBn9f",
        "colab": {
          "base_uri": "https://localhost:8080/"
        },
        "outputId": "5b00708a-e9df-449a-e015-a6de0027b9a5"
      },
      "source": [
        "a = [2, 6, 7, 9, 10]\n",
        "a.index(9)"
      ],
      "execution_count": 20,
      "outputs": [
        {
          "output_type": "execute_result",
          "data": {
            "text/plain": [
              "3"
            ]
          },
          "metadata": {
            "tags": []
          },
          "execution_count": 20
        }
      ]
    },
    {
      "cell_type": "markdown",
      "metadata": {
        "id": "YwaLV43YBn9f"
      },
      "source": [
        "* **in 키워드**\n",
        " + 리스트 내에 해당 값이 존재하는지 확인\n",
        " + value in [list]\n",
        " + True, False 중 한가지로 반환"
      ]
    },
    {
      "cell_type": "code",
      "metadata": {
        "id": "I39OwE-tBn9f",
        "colab": {
          "base_uri": "https://localhost:8080/"
        },
        "outputId": "8392ecb3-be97-4ef7-bdb5-500cc1173745"
      },
      "source": [
        "a = [1, 2, 3, 4, 5, 10]\n",
        "b = 10\n",
        "\n",
        "c = b in a # False\n",
        "\n",
        "print(c)\n"
      ],
      "execution_count": 21,
      "outputs": [
        {
          "output_type": "stream",
          "text": [
            "True\n"
          ],
          "name": "stdout"
        }
      ]
    },
    {
      "cell_type": "markdown",
      "metadata": {
        "id": "vMAvUaHsBn9f"
      },
      "source": [
        "* **list 정렬**\n",
        " + sort() -> 리스트 자체를 내부적으로 정렬, 얘는 list의 맴버함수임\n",
        " + sorted() -> 리스트의 정렬된 복사본을 반환, 얘는 내장함수임."
      ]
    },
    {
      "cell_type": "code",
      "metadata": {
        "id": "wNbHUNoYBn9g",
        "colab": {
          "base_uri": "https://localhost:8080/"
        },
        "outputId": "e8d79857-3459-454c-e175-d318a44a1dd6"
      },
      "source": [
        "a = [9, 10, 7, 19, 1, 2, 20, 21, 7, 8]\n",
        "a.sort(reverse=True) #이렇게 쓰면 역순으로 정리됨.\n",
        "b = sorted(a)\n",
        "print(a)\n",
        "print(b)"
      ],
      "execution_count": 22,
      "outputs": [
        {
          "output_type": "stream",
          "text": [
            "[21, 20, 19, 10, 9, 8, 7, 7, 2, 1]\n",
            "[1, 2, 7, 7, 8, 9, 10, 19, 20, 21]\n"
          ],
          "name": "stdout"
        }
      ]
    },
    {
      "cell_type": "markdown",
      "metadata": {
        "id": "jYPu0AdZBn9g"
      },
      "source": [
        "### **tuple**\n",
        " - 리스트와 같이 복수개의 값을 갖는 컬렉션 타입\n",
        " - 생성된 후 변경이 불가능\n",
        " - 리스트는 대괄호를 쓰지만, 튜플은 소괄호를 쓴다.\n",
        " - 리스트는 포함한 원소를 바꿀 수 있으나, 튜플은 바꿀 수 없다!"
      ]
    },
    {
      "cell_type": "code",
      "metadata": {
        "id": "IaM1Dr4nBn9g",
        "colab": {
          "base_uri": "https://localhost:8080/",
          "height": 316
        },
        "outputId": "ddca1647-52e4-4404-e941-df0c87953a3d"
      },
      "source": [
        "a = [1, 2, 3]\n",
        "b = (1, 2, 3)\n",
        "print(a)\n",
        "print(b)\n",
        "\n",
        "print(type(a))\n",
        "print(type(b))\n",
        "\n",
        "a[0] = 100\n",
        "print(a)\n",
        "\n",
        "b[0] = 100 #b는 튜플이라서, 0번쨰 인덱스를 바꾸라는 명령을 듣지 않는다. \n",
        "print(b)"
      ],
      "execution_count": 24,
      "outputs": [
        {
          "output_type": "stream",
          "text": [
            "[1, 2, 3]\n",
            "(1, 2, 3)\n",
            "<class 'list'>\n",
            "<class 'tuple'>\n",
            "[100, 2, 3]\n"
          ],
          "name": "stdout"
        },
        {
          "output_type": "error",
          "ename": "TypeError",
          "evalue": "ignored",
          "traceback": [
            "\u001b[0;31m---------------------------------------------------------------------------\u001b[0m",
            "\u001b[0;31mTypeError\u001b[0m                                 Traceback (most recent call last)",
            "\u001b[0;32m<ipython-input-24-d0d72e9cd538>\u001b[0m in \u001b[0;36m<module>\u001b[0;34m()\u001b[0m\n\u001b[1;32m     10\u001b[0m \u001b[0mprint\u001b[0m\u001b[0;34m(\u001b[0m\u001b[0ma\u001b[0m\u001b[0;34m)\u001b[0m\u001b[0;34m\u001b[0m\u001b[0;34m\u001b[0m\u001b[0m\n\u001b[1;32m     11\u001b[0m \u001b[0;34m\u001b[0m\u001b[0m\n\u001b[0;32m---> 12\u001b[0;31m \u001b[0mb\u001b[0m\u001b[0;34m[\u001b[0m\u001b[0;36m0\u001b[0m\u001b[0;34m]\u001b[0m \u001b[0;34m=\u001b[0m \u001b[0;36m100\u001b[0m \u001b[0;31m#b는 튜플이라서, 0번쨰 인덱스를 바꾸라는 명령을 듣지 않는다.\u001b[0m\u001b[0;34m\u001b[0m\u001b[0;34m\u001b[0m\u001b[0m\n\u001b[0m\u001b[1;32m     13\u001b[0m \u001b[0mprint\u001b[0m\u001b[0;34m(\u001b[0m\u001b[0mb\u001b[0m\u001b[0;34m)\u001b[0m\u001b[0;34m\u001b[0m\u001b[0;34m\u001b[0m\u001b[0m\n",
            "\u001b[0;31mTypeError\u001b[0m: 'tuple' object does not support item assignment"
          ]
        }
      ]
    },
    {
      "cell_type": "markdown",
      "metadata": {
        "id": "p3oDOGAsBn9g"
      },
      "source": [
        "#### **tuple unpacking**\n",
        " - 튜플은 괄호없이 쓸 수 있다.\n",
        " - 튜플의 값을 차례대로 변수에 대입"
      ]
    },
    {
      "cell_type": "code",
      "metadata": {
        "id": "5uW5iIQRBn9h",
        "colab": {
          "base_uri": "https://localhost:8080/"
        },
        "outputId": "4684becd-9c83-430c-efd5-e8542a4d9684"
      },
      "source": [
        "a,b,c,d=100,200,300,400\n",
        "print(a,b,c,d)"
      ],
      "execution_count": 28,
      "outputs": [
        {
          "output_type": "stream",
          "text": [
            "100 200 300 400\n"
          ],
          "name": "stdout"
        }
      ]
    },
    {
      "cell_type": "markdown",
      "metadata": {
        "id": "mRO8aKA2Bn9h"
      },
      "source": [
        "* **연습문제** a와 b의 값을 교환하시오"
      ]
    },
    {
      "cell_type": "code",
      "metadata": {
        "id": "5Cu8vSIPBn9h",
        "colab": {
          "base_uri": "https://localhost:8080/"
        },
        "outputId": "5fd6c14c-af5a-4f56-a9c6-f9cef61f2b0a"
      },
      "source": [
        "#튜플은 패키지 내의 변수들의 값을 여러가지로 그때그때에 맞게 변동해서 쓰고 싶을때 쓴다.\n",
        "a = 5\n",
        "b = 4\n",
        "\n",
        "print(a, b)\n",
        "\n",
        "# # logic(보통은 이런 방식으로 a값과 b값을 교환하지만,)\n",
        "# temp = a\n",
        "# a = b\n",
        "# b = temp\n",
        "a, b = b, a #튜플에선 이렇게 막 바꿀 수 있다.\n",
        "\n",
        "print(a, b)"
      ],
      "execution_count": 30,
      "outputs": [
        {
          "output_type": "stream",
          "text": [
            "5 4\n",
            "4 5\n"
          ],
          "name": "stdout"
        }
      ]
    }
  ]
}