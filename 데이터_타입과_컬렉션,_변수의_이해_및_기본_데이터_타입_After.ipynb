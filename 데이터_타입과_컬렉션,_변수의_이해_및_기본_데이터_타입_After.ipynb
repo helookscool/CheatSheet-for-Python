{
  "nbformat": 4,
  "nbformat_minor": 0,
  "metadata": {
    "kernelspec": {
      "display_name": "Python 3",
      "language": "python",
      "name": "python3"
    },
    "language_info": {
      "codemirror_mode": {
        "name": "ipython",
        "version": 3
      },
      "file_extension": ".py",
      "mimetype": "text/x-python",
      "name": "python",
      "nbconvert_exporter": "python",
      "pygments_lexer": "ipython3",
      "version": "3.7.3"
    },
    "colab": {
      "name": "데이터 타입과 컬렉션, 변수의 이해 및 기본 데이터 타입_After.ipynb",
      "provenance": [],
      "include_colab_link": true
    }
  },
  "cells": [
    {
      "cell_type": "markdown",
      "metadata": {
        "id": "view-in-github",
        "colab_type": "text"
      },
      "source": [
        "<a href=\"https://colab.research.google.com/github/helookscool/LittleStudy/blob/main/%EB%8D%B0%EC%9D%B4%ED%84%B0_%ED%83%80%EC%9E%85%EA%B3%BC_%EC%BB%AC%EB%A0%89%EC%85%98%2C_%EB%B3%80%EC%88%98%EC%9D%98_%EC%9D%B4%ED%95%B4_%EB%B0%8F_%EA%B8%B0%EB%B3%B8_%EB%8D%B0%EC%9D%B4%ED%84%B0_%ED%83%80%EC%9E%85_After.ipynb\" target=\"_parent\"><img src=\"https://colab.research.google.com/assets/colab-badge.svg\" alt=\"Open In Colab\"/></a>"
      ]
    },
    {
      "cell_type": "code",
      "metadata": {
        "id": "Qg7U2Ct6Z-x-"
      },
      "source": [
        "a = 10 # int \n",
        "b = 11.4 # float "
      ],
      "execution_count": 2,
      "outputs": []
    },
    {
      "cell_type": "code",
      "metadata": {
        "id": "QN-chkHwZ-yA"
      },
      "source": [
        "# this line is very important\n",
        "# so don't delete those lines\n",
        "\n",
        "a = 10\n",
        "b = 11.4"
      ],
      "execution_count": 3,
      "outputs": []
    },
    {
      "cell_type": "code",
      "metadata": {
        "colab": {
          "base_uri": "https://localhost:8080/"
        },
        "id": "4bInEfekZ-yB",
        "outputId": "29aae626-1245-4920-9d7f-1f7c768ae613"
      },
      "source": [
        "print(a, b)\n",
        "print(a, 10, 200, b)"
      ],
      "execution_count": 4,
      "outputs": [
        {
          "output_type": "stream",
          "text": [
            "10 11.4\n",
            "10 10 200 11.4\n"
          ],
          "name": "stdout"
        }
      ]
    },
    {
      "cell_type": "markdown",
      "metadata": {
        "id": "v6YybTpkZ-yC"
      },
      "source": [
        "* **print함수 설정**\n",
        " - sep : 구분자, 각 출력할 변수 사이에서 구별하는 역할을 함, 디폴트는 걍 띄어쓰기임\n",
        " \n",
        " - end : 마지막에 출력할 문자열"
      ]
    },
    {
      "cell_type": "code",
      "metadata": {
        "colab": {
          "base_uri": "https://localhost:8080/"
        },
        "id": "arGtMhRcZ-yC",
        "outputId": "84936a09-dcfc-4ace-a47c-6ad3600e3f5f"
      },
      "source": [
        "print(a, b, 10, 100, sep='*', end='!!')"
      ],
      "execution_count": 5,
      "outputs": [
        {
          "output_type": "stream",
          "text": [
            "10*11.4*10*100!!"
          ],
          "name": "stdout"
        }
      ]
    },
    {
      "cell_type": "markdown",
      "metadata": {
        "id": "3XMNyCpEZ-yD"
      },
      "source": [
        "#### **변수 이름 규칙)**\n",
        "  - '숫자로 시작하는 이름을 제외'하고 영문 대소문자, _, 숫자로 구성가능 \n",
        "  - 아래의 예제는 모두 valid한 변수 이름\n",
        "  - 일반적으로 해당 변수를 표현하고자 하는 정확하고 간결한 이름을 사용하는 것이 원칙\n",
        "    - 코드를 읽은 것을 더 쉽게 할 수 있음\n",
        "    - e.g) a = 1000의 경우보다 **student_num = 1000**로 명시한 것이 변수에 대한 이해가 빠름"
      ]
    },
    {
      "cell_type": "code",
      "metadata": {
        "id": "Hrs-rntIZ-yE"
      },
      "source": [
        "abcABC = 100\n",
        "_abc124 = 200\n",
        "ABC124 = 200\n",
        "a456BC = 100\n",
        "\n",
        "a = 200\n",
        "number_of_students = 200"
      ],
      "execution_count": 7,
      "outputs": []
    },
    {
      "cell_type": "markdown",
      "metadata": {
        "id": "RTf7JFl_Z-yF"
      },
      "source": [
        "#### **reserved keywords (예약어)**\n",
        "  - python에서 미리 선점하여 사용중인 키워드오서 임의로 지정하여 변수로 쓸 수 없음"
      ]
    },
    {
      "cell_type": "code",
      "metadata": {
        "id": "VXFFik_UZ-yF"
      },
      "source": [
        "for\n",
        "while \n",
        "if\n",
        "elif \n",
        "else \n",
        "class\n",
        "try\n",
        "except\n",
        "class\n",
        "# ...\n",
        "#꼭 해당 키워드를 써야 한다면 언더바_를 붙인 형태로 쓰도록 하자.\n",
        "_class = 100\n",
        "print(_class)"
      ],
      "execution_count": null,
      "outputs": []
    },
    {
      "cell_type": "markdown",
      "metadata": {
        "id": "o9OpwVDDZ-yF"
      },
      "source": [
        "### 기본 데이터 타입 \n",
        "  - 정수 (int)--> 음의정수, 양의정수, '0'\n",
        "  - 실수 (float)\n",
        "  - 문자열 (str)\n",
        "  - 불리언 (boolean)--> 컴퓨터 과학에서 불리언(boolean) 자료형은 논리 자료형이라고도 하며, 참과 거짓을 나타내는 데 쓰인다.true와 false로 나타내어 지는 자료라는 뜻"
      ]
    },
    {
      "cell_type": "markdown",
      "metadata": {
        "id": "3j-PeLB1Z-yF"
      },
      "source": [
        "#### type 함수\n",
        " - 해당 변수, 값의 타입(type)을 알고자 할 때 사용"
      ]
    },
    {
      "cell_type": "code",
      "metadata": {
        "id": "sNTkpaIqZ-yG"
      },
      "source": [
        "a = 10\n",
        "b = 11.45\n",
        "\n",
        "type(b)"
      ],
      "execution_count": null,
      "outputs": []
    },
    {
      "cell_type": "markdown",
      "metadata": {
        "id": "w61wsBfvZ-yG"
      },
      "source": [
        "#### **None**\n",
        " - 아무런 값을 갖지 않을 때 사용\n",
        " - 일반적으로 변수가 초기값을 갖지 않게 하여 해당 변수를 생성할 때 사용\n",
        " - 기타 언어의 NULL, nil등과 같은 의미로 사용"
      ]
    },
    {
      "cell_type": "code",
      "metadata": {
        "id": "1k0R_aRxZ-yG"
      },
      "source": [
        "c = None\n",
        "print(c)"
      ],
      "execution_count": null,
      "outputs": []
    },
    {
      "cell_type": "markdown",
      "metadata": {
        "id": "nN_1IqKeZ-yG"
      },
      "source": [
        "#### **comparison operator(비교 연산자)** \n",
        "  - 프로그래밍에서는 비교를 할 경우, = 대신 **==**를 사용\n",
        "  - <=, >= (작거나 같다, 크거나 같다)\n",
        "  - == 같다\n",
        "  - != 같지 않다\n",
        "  - 비교 연산자의 결과는 bool 타입 "
      ]
    },
    {
      "cell_type": "code",
      "metadata": {
        "colab": {
          "base_uri": "https://localhost:8080/"
        },
        "id": "y7BAqSORZ-yH",
        "outputId": "83a55fe6-c268-401d-e09b-dfbd28c1922f"
      },
      "source": [
        "a = 5\n",
        "b = 4\n",
        "\n",
        "print(a > b) # True\n",
        "print(a < b) # False\n",
        "print(a >= b) # True\n",
        "print(a <= b) # False\n",
        "print(a == b) # False\n",
        "print(a != b) # True\n",
        "\n",
        "c = a > b\n",
        "c = True\n",
        "print(type(c))\n",
        "print(c)"
      ],
      "execution_count": 9,
      "outputs": [
        {
          "output_type": "stream",
          "text": [
            "True\n",
            "False\n",
            "True\n",
            "False\n",
            "False\n",
            "True\n",
            "<class 'bool'>\n",
            "True\n"
          ],
          "name": "stdout"
        }
      ]
    },
    {
      "cell_type": "markdown",
      "metadata": {
        "id": "gUB0NUEHZ-yH"
      },
      "source": [
        "#### **numbers (숫자형 타입)**\n",
        " - 정수, 실수로 구성\n",
        " - 수학의 기본 연산자(가감승제) 사용 가능"
      ]
    },
    {
      "cell_type": "code",
      "metadata": {
        "id": "fuWJGy9FZ-yH"
      },
      "source": [
        "a = 5\n",
        "b = 4\n",
        "\n",
        "print(a + b)\n",
        "print(a * b)\n",
        "print(a - b)\n",
        "print(a / b)\n",
        "print(a % b)\n",
        "print(a ** b)\n"
      ],
      "execution_count": null,
      "outputs": []
    },
    {
      "cell_type": "markdown",
      "metadata": {
        "id": "oPONV7lZZ-yH"
      },
      "source": [
        "#### **operator priorities (연산자 우선순위)**\n",
        "  - 기본적인 수학의 연산자와 동일(곱하기/나누기 우선)\n",
        "  - 강제로 연산을 선수하기 위해선, 괄호()를 사용"
      ]
    },
    {
      "cell_type": "code",
      "metadata": {
        "colab": {
          "base_uri": "https://localhost:8080/"
        },
        "id": "LSqlg3g4Z-yI",
        "outputId": "5edc86b0-5d1f-46be-a200-82e51c281b5e"
      },
      "source": [
        "a = 5\n",
        "b = 4\n",
        "\n",
        "print(a + b * 4)\n",
        "print((a + b) * 4)"
      ],
      "execution_count": 10,
      "outputs": [
        {
          "output_type": "stream",
          "text": [
            "21\n",
            "36\n"
          ],
          "name": "stdout"
        }
      ]
    },
    {
      "cell_type": "markdown",
      "metadata": {
        "id": "GIYQzP86Z-yI"
      },
      "source": [
        "*  **연습문제** 다음의 각 a값을 출력 했을 때 결과는? \n"
      ]
    },
    {
      "cell_type": "code",
      "metadata": {
        "colab": {
          "base_uri": "https://localhost:8080/"
        },
        "id": "wtawx6bzZ-yI",
        "outputId": "213cf84b-7be7-4c45-c516-c7f6fb7b94bf"
      },
      "source": [
        "a = 9\n",
        "print(a) # 9\n",
        "print(a - 3) # 6\n",
        "print(a) #9, 6"
      ],
      "execution_count": 11,
      "outputs": [
        {
          "output_type": "stream",
          "text": [
            "9\n",
            "6\n",
            "9\n"
          ],
          "name": "stdout"
        }
      ]
    },
    {
      "cell_type": "markdown",
      "metadata": {
        "id": "3O-2skS0Z-yI"
      },
      "source": [
        "#### **expression evaluation & assignment (식평가 & 대입)**\n",
        " - 변수의 값이 변경되기 위해서는 =를 사용하여 대입이 발생하는 경우에만 해당"
      ]
    },
    {
      "cell_type": "code",
      "metadata": {
        "colab": {
          "base_uri": "https://localhost:8080/"
        },
        "id": "WF7EmmEzZ-yI",
        "outputId": "84217788-afd4-4eb7-bf5a-61a8e24802c3"
      },
      "source": [
        "a = 9\n",
        "a-3\n",
        "print(a)"
      ],
      "execution_count": 12,
      "outputs": [
        {
          "output_type": "stream",
          "text": [
            "9\n"
          ],
          "name": "stdout"
        }
      ]
    },
    {
      "cell_type": "code",
      "metadata": {
        "colab": {
          "base_uri": "https://localhost:8080/"
        },
        "id": "pxSN5WZWZ-yJ",
        "outputId": "c95ca7af-641c-46de-ff05-c984fe370d19"
      },
      "source": [
        "a = 9\n",
        "t = a - 3\n",
        "a = t\n",
        "\n",
        "print(a)"
      ],
      "execution_count": 13,
      "outputs": [
        {
          "output_type": "stream",
          "text": [
            "6\n"
          ],
          "name": "stdout"
        }
      ]
    },
    {
      "cell_type": "code",
      "metadata": {
        "colab": {
          "base_uri": "https://localhost:8080/"
        },
        "id": "JQla79RiZ-yJ",
        "outputId": "063e7a6e-c747-4343-a194-05c60ac70d1c"
      },
      "source": [
        "a = 9\n",
        "a = a - 3\n",
        "print(a)"
      ],
      "execution_count": 14,
      "outputs": [
        {
          "output_type": "stream",
          "text": [
            "6\n"
          ],
          "name": "stdout"
        }
      ]
    },
    {
      "cell_type": "code",
      "metadata": {
        "colab": {
          "base_uri": "https://localhost:8080/"
        },
        "id": "JffiKUEAZ-yJ",
        "outputId": "31117c15-3455-463e-fcb2-2dcf4332cb4a"
      },
      "source": [
        "a = 9\n",
        "# a = a - 3\n",
        "a **= 3# 9의 세제곱임\n",
        "print(a)"
      ],
      "execution_count": 15,
      "outputs": [
        {
          "output_type": "stream",
          "text": [
            "729\n"
          ],
          "name": "stdout"
        }
      ]
    }
  ]
}
